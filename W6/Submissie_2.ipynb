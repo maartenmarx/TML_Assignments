{
 "cells": [
  {
   "cell_type": "markdown",
   "id": "a1737ddc",
   "metadata": {
    "nbgrader": {
     "grade": false,
     "grade_id": "privacy",
     "locked": false,
     "schema_version": 3,
     "solution": false
    }
   },
   "source": [
    "# Assignment Applied Machine Learning BSc IK \n",
    "\n",
    "## Notebook made by\n",
    "\n",
    "**Gebruik graag dit formaat**\n",
    "\n",
    "* Voor de namen:  voornaam rest van je naam, voornaam rest van je naam,....\n",
    "* je studentnummers: hetzelfde: scheidt met `,`\n",
    "* je emails: hetzelfde: scheidt met `,`\n",
    "* voor je groep: **alleen de hoofdletter** (iets als  `A` of `B` dus)\n",
    "\n",
    "__Namen__:Anoniem",
    "\n",
    "__Emails__:Anoniem",
    "\n",
    "__Student id__:Anoniem",
    "\n",
    "__Groep__:Anoniem"
   ]
  },
  {
   "cell_type": "markdown",
   "id": "bba89a06",
   "metadata": {},
   "source": [
    "## Toelichting\n",
    "\n",
    "* Een aantal opgaven worden automatisch nagekeken. Bij vrijwel alle opdrachten staan er een paar tests onder de opdracht, dit is voornamelijk om te zorgen dat je de juiste type output geeft. Dit zijn dus *NIET* alle tests, die komen er bij het graden nog bij.\n",
    "* Elke vraag is 1 punt waard, tenzij anders aangegeven. Soms is die punt onderverdeeld in deelpunten, maar niet altijd. \n",
    "\n",
    "## Voor het inleveren!\n",
    "\n",
    "* Pas niet de cellen aan, vooral niet die je niet kunt editen. Dit levert problemen op bij nakijken. Twijfel je of je per ongeluk iets hebt gewijzigd, kopieer dan bij inleveren je antwoorden naar een nieuw bestand, zodat het niet fout kan gaan.\n",
    "\n",
    "* Zorg dat de code goed runt van boven naar beneden, verifieer dat door boven in Kernel -> Restart & Run All uit te voeren\n",
    "\n",
    "## Na het inleveren!\n",
    "\n",
    "* Het gebeurt erg vaak dat mensen een \"leeg bestand\" inleveren. Vaak een andere versie van de opgave die nog ergens op je computer rondslingerde. Zonde van al je werk toch!\n",
    "* Dus, lever **minstens een half uur voor tijd in**. Download dan wat je hebt ingeleverd op Canvas. Geef het een andere naam om verwarring te voorkomen. En draai alle cellen, en bekijk het. Geen syntax fouten? Alle vragen gemaakt? Dan zit het vast wel goed, en hoef je niet in de zenuwen te zitten."
   ]
  },
  {
   "cell_type": "markdown",
   "id": "c779dca8",
   "metadata": {
    "deletable": false,
    "editable": false,
    "nbgrader": {
     "cell_type": "markdown",
     "checksum": "bd80cdc0e19a67f9bff05d0e08a99c5e",
     "grade": false,
     "grade_id": "i",
     "locked": true,
     "schema_version": 3,
     "solution": false
    }
   },
   "source": [
    "# Applied Machine Learning W6\n",
    "\n",
    "In the exercises of this week we will be looking more closely at different Machine Learning models, such as decision trees and random forests. We will also be taking our first look at building models for the text domain, which will also be part of the assignment for next week.\n",
    "\n",
    "\n",
    "## Assignment Index\n",
    "\n",
    "- 1.1 [Decision Trees and Random Forests](#random_forests)\n",
    "- 1.2 [Logistic Regression with the Titanic dataset](#titanic)\n",
    "- 1.3 [Text Classification](#text_classification)"
   ]
  },
  {
   "cell_type": "code",
   "execution_count": null,
   "id": "2a38d0e4",
   "metadata": {
    "deletable": false,
    "editable": false,
    "nbgrader": {
     "cell_type": "code",
     "checksum": "705b25f855cc865df255378a28191950",
     "grade": false,
     "grade_id": "imp",
     "locked": true,
     "schema_version": 3,
     "solution": false
    }
   },
   "outputs": [],
   "source": [
    "import os\n",
    "import sklearn\n",
    "import pandas as pd\n",
    "import numpy as np\n",
    "import matplotlib.pyplot as plt\n",
    "import seaborn as sns; sns.set()\n",
    "\n",
    "# testing\n",
    "from numpy.testing import *\n",
    "from nose.tools import assert_count_equal, assert_equal, assert_almost_equals\n",
    "from pandas.testing import assert_frame_equal\n",
    "\n",
    "# Please do not remove this: \n",
    "np.random.seed(31415)"
   ]
  },
  {
   "cell_type": "markdown",
   "id": "1ffbf715",
   "metadata": {
    "deletable": false,
    "editable": false,
    "nbgrader": {
     "cell_type": "markdown",
     "checksum": "b9d02218d9292fa96a5ab35315634db7",
     "grade": false,
     "grade_id": "cell-175428cab90f9597",
     "locked": true,
     "schema_version": 3,
     "solution": false,
     "task": false
    }
   },
   "source": [
    "<a id=\"random_forest\" />"
   ]
  },
  {
   "cell_type": "markdown",
   "id": "8432c83a",
   "metadata": {
    "deletable": false,
    "editable": false,
    "nbgrader": {
     "cell_type": "markdown",
     "checksum": "c18bdac2685c720bdf5309d57cac4dd6",
     "grade": false,
     "grade_id": "dt",
     "locked": true,
     "schema_version": 3,
     "solution": false
    }
   },
   "source": [
    "# Decision trees and random forests\n",
    "\n",
    "In this for exercise we will be working with decision trees on the familiar digits dataset. We will be using a random forest classifier to classify the images, and do a little exploration on the mistakes that the classifier makes.\n",
    "\n",
    "* Create a random forest classifier for the digits dataset, with a 80-20 test train split.\n",
    "* Evaluate with a report of P, R and F1 for each digit (class) and a confusion matrix.\n",
    "* Not only predict a class, but also compute the probabilities for each class using `predict_proba`.\n",
    "  - You can use `predict_proba` and make binary labels from it, so you only have to run the \n",
    "  prediction code once.\n",
    "* Make an insightful investigation of this probability space.\n",
    "    * which ones are more easily confused (eg, the probability of the winner is not that high and not that far off from the numbefr 2.)\n",
    "    * Write a small report, with insightful tables and graphics.\n"
   ]
  },
  {
   "cell_type": "code",
   "execution_count": null,
   "id": "cc6b79fc",
   "metadata": {
    "deletable": false,
    "editable": false,
    "nbgrader": {
     "cell_type": "code",
     "checksum": "654c88a022ed1aae603f28291f672844",
     "grade": false,
     "grade_id": "cell-0c8deb7a9b103313",
     "locked": true,
     "schema_version": 3,
     "solution": false,
     "task": false
    }
   },
   "outputs": [],
   "source": [
    "# We give this to you, we load in the dataset and we show a small example of the dataset.\n",
    "from sklearn.datasets import load_digits\n",
    "digits = load_digits()\n",
    "\n",
    "# set up the figure\n",
    "fig = plt.figure(figsize=(6, 6))  # figure size in inches\n",
    "fig.subplots_adjust(left=0, right=1, bottom=0, top=1, hspace=0.05, wspace=0.05)\n",
    "\n",
    "# plot the digits: each image is 8x8 pixels to get a feel for what is in the digits dataset.\n",
    "for i in range(64):\n",
    "    ax = fig.add_subplot(8, 8, i + 1, xticks=[], yticks=[])\n",
    "    ax.imshow(digits.images[i], cmap=plt.cm.binary, interpolation='nearest')\n",
    "    \n",
    "    # label the image with the target value\n",
    "    ax.text(0, 7, str(digits.target[i]))"
   ]
  },
  {
   "cell_type": "code",
   "execution_count": null,
   "id": "0c831fb2",
   "metadata": {
    "deletable": false,
    "nbgrader": {
     "cell_type": "code",
     "checksum": "b4568b5eeff83b9df1c2bfd3f88b88c4",
     "grade": false,
     "grade_id": "cell-c53c408eda935531",
     "locked": false,
     "schema_version": 3,
     "solution": true,
     "task": false
    }
   },
   "outputs": [],
   "source": [
    "np.random.seed(31415)# Do not remove this\n",
    "from sklearn.ensemble import RandomForestClassifier\n",
    "from sklearn.model_selection import train_test_split\n",
    "from sklearn.metrics import classification_report, confusion_matrix\n",
    "\n",
    "# Set up the data and split up in train and test\n",
    "X = digits.data\n",
    "y = digits.target\n",
    "X_train, X_test, y_train, y_test =  train_test_split(X, y, test_size=0.2) \n",
    "\n",
    "# gebruik random forest\n",
    "classifier = RandomForestClassifier()\n",
    "# fit op train set\n",
    "classifier.fit(X_train, y_train)\n",
    "\n",
    "\n",
    "# Next is making the classifier and predicting the labels of the digits\n",
    "# Predict probabilities and labels for the test set\n",
    "predicted_probabilities = classifier.predict_proba(X_test)\n",
    "# voorspel y met classifier\n",
    "predicted_labels = classifier.predict(X_test)\n",
    "\n",
    "# Compute confusion matrix and classification report\n",
    "digits_confusion_matrix = confusion_matrix(y_test, predicted_labels)\n",
    "digits_classification_report = classification_report(y_test, predicted_labels)\n",
    "\n",
    "#WRITE YOUR CODE HERE\n",
    "digits_confusion_matrix, predicted_probabilities[:10], digits_classification_report"
   ]
  },
  {
   "cell_type": "code",
   "execution_count": null,
   "id": "92c68edc",
   "metadata": {
    "deletable": false,
    "editable": false,
    "nbgrader": {
     "cell_type": "code",
     "checksum": "6a7c45744350355feb7cefdd2140b7d8",
     "grade": true,
     "grade_id": "cell-b4efb574acdcabde",
     "locked": true,
     "points": 1,
     "schema_version": 3,
     "solution": false,
     "task": false
    }
   },
   "outputs": [],
   "source": [
    "assert_equal(X_train.shape, (1437, 64))\n",
    "assert_equal(X_test.shape, (360, 64))\n",
    "assert_equal(y_train.shape, (1437,))\n",
    "assert_equal(y_test.shape, (360,))\n",
    "assert_equal(predicted_probabilities.shape, (360, 10))\n",
    "assert_equal(predicted_labels.shape, (360,))"
   ]
  },
  {
   "cell_type": "markdown",
   "id": "7d034757",
   "metadata": {
    "deletable": false,
    "editable": false,
    "nbgrader": {
     "cell_type": "markdown",
     "checksum": "2e19ca0ea2277dcd1450a13a0b2786b4",
     "grade": false,
     "grade_id": "cell-965112fc0d83ac9f",
     "locked": true,
     "schema_version": 3,
     "solution": false,
     "task": false
    }
   },
   "source": [
    "Below, do a small report on the predicted probabilities, showing easy and hard to classify instances. Also fill in the `most_confused` variable, which should be a list of ten elements, where for each digit you report the digit it was confused by most. "
   ]
  },
  {
   "cell_type": "code",
   "execution_count": null,
   "id": "d7b2e186",
   "metadata": {
    "deletable": false,
    "nbgrader": {
     "cell_type": "code",
     "checksum": "9837aa26d0502d1e6724f0066d7032d1",
     "grade": false,
     "grade_id": "cell-30cd51f7f488eb7d",
     "locked": false,
     "schema_version": 3,
     "solution": true,
     "task": false
    }
   },
   "outputs": [],
   "source": [
    "most_confused = [] # Fill this in\n",
    "# Hint: maybe set the diagonal to zero?\n",
    "# Compute the most confused digit for each class\n",
    "for i in range(10):\n",
    "    # Set the diagonal element to zero to exclude correct predictions\n",
    "    predicted_probabilities[i, i] = 0\n",
    "    # Find the index of the digit it was confused by most\n",
    "    most_confused_digit = np.argmax(predicted_probabilities[i])\n",
    "    most_confused.append(most_confused_digit)\n",
    "\n",
    "\n",
    "# Also make a nice report on the scores\n",
    "scores_report = classification_report(y_test, predicted_labels)\n",
    "\n",
    "# Print the report\n",
    "print(\"Classification Report:\")\n",
    "print(scores_report)\n",
    "\n",
    "\n",
    "# Show this in a nice dataframe\n",
    "pd.DataFrame({'Class': range(10), 'Most Confused With': most_confused})"
   ]
  },
  {
   "cell_type": "code",
   "execution_count": null,
   "id": "ee80188e",
   "metadata": {
    "deletable": false,
    "editable": false,
    "nbgrader": {
     "cell_type": "code",
     "checksum": "2a520eee1f743edf7ca0e4fd91d90269",
     "grade": true,
     "grade_id": "cell-69d04e2935ea567e",
     "locked": true,
     "points": 1,
     "schema_version": 3,
     "solution": false,
     "task": false
    }
   },
   "outputs": [],
   "source": []
  },
  {
   "cell_type": "markdown",
   "id": "1987be97",
   "metadata": {
    "deletable": false,
    "editable": false,
    "nbgrader": {
     "cell_type": "markdown",
     "checksum": "40544647a1acaafe50370e89f9550ea1",
     "grade": false,
     "grade_id": "cell-20aef2210d19741c",
     "locked": true,
     "schema_version": 3,
     "solution": false,
     "task": false
    }
   },
   "source": [
    "Write a small report about the predictions of the classifier using `predict_proba`, and discuss the probability space of each true digit class. For instance, argue, using the probabilities which digit class is the easiest to predict correctly, and which one is the hardest. What properties of the probability space make you think it is easy or hard? Don't write a lot, make good pictures. Make the code in the empty cell below."
   ]
  },
  {
   "cell_type": "code",
   "execution_count": null,
   "id": "7831b462",
   "metadata": {
    "deletable": false,
    "nbgrader": {
     "cell_type": "code",
     "checksum": "066e71b7c06a3a9f673aeccc79e17699",
     "grade": true,
     "grade_id": "cell-2fb61c1e1933993d",
     "locked": false,
     "points": 1,
     "schema_version": 3,
     "solution": true,
     "task": false
    }
   },
   "outputs": [],
   "source": [
    "# Define a list of digit labels\n",
    "digit_labels = list(range(10))\n",
    "\n",
    "# Plot the probability distributions for each true digit class\n",
    "fig, axes = plt.subplots(10, 1, figsize=(8, 30))\n",
    "fig.subplots_adjust(hspace=0.5)\n",
    "\n",
    "for i, ax in enumerate(axes):\n",
    "    true_digit = i\n",
    "    \n",
    "    # Filter the predicted probabilities for the true digit class\n",
    "    true_digit_probs = predicted_probabilities[:, true_digit]\n",
    "    \n",
    "    # Plot the probability distribution\n",
    "    ax.hist(true_digit_probs, bins=20, range=(0, 1), alpha=0.7)\n",
    "    ax.set_title(f\"True Digit: {true_digit}\")\n",
    "    ax.set_xlabel(\"Predicted Probability\")\n",
    "    ax.set_ylabel(\"Frequency\")\n",
    "\n",
    "plt.tight_layout()\n",
    "plt.show()\n"
   ]
  },
  {
   "cell_type": "markdown",
   "id": "2ef3df67",
   "metadata": {
    "deletable": false,
    "editable": false,
    "nbgrader": {
     "cell_type": "markdown",
     "checksum": "5d2d480038fc8fed3d6ee5a17ffd4c73",
     "grade": false,
     "grade_id": "cell-260ed38a9d7b2f35",
     "locked": true,
     "schema_version": 3,
     "solution": false,
     "task": false
    }
   },
   "source": [
    "<a id=\"titanic\" />"
   ]
  },
  {
   "cell_type": "markdown",
   "id": "908e6c2d",
   "metadata": {
    "deletable": false,
    "editable": false,
    "nbgrader": {
     "cell_type": "markdown",
     "checksum": "21387af09a5062d9803b79d572a8cc84",
     "grade": false,
     "grade_id": "tita",
     "locked": true,
     "schema_version": 3,
     "solution": false
    }
   },
   "source": [
    "# Logistic Regression for the Titanic Dataset\n",
    "\n",
    "In exercise we are going to use logistic regression on the Titanic dataset, similar to what we did last week with linear regression. We are mostly going to perform the same steps as last week, performing a grid search on parameters, and comparing the performance of different models. We are also going to do a bit more in-depth preprocessing, working with categorical variables.\n",
    "\n",
    "## P1 standardization & Categorical Variables\n",
    "\n",
    "* Load the titanic dataset.\n",
    "* Impute the missing data.\n",
    "* Split the dataset into a train and test set with an 80/20 split.\n",
    "* Z-transform all explanatory variables.\n",
    "* Now use logistic  regression to predict survived from the other variables.\n",
    "* Output the regression weights, and compute Rsquare and RMSE.\n",
    "\n",
    "## P2 Grid Search\n",
    "\n",
    "* Split titanic into train, validation, test.\n",
    "* Again, scale the data.\n",
    "* Use the validation set to find optimal values for the the relevant parameters.\n",
    "* Tabulate or plot the outcomes in a handy and insightful manner, \"displaying the grid of possibilities\".\n",
    "* Pick the best model from the validation set, and run this on the the test set.\n",
    "\n",
    "## P3 More Models\n",
    "\n",
    "* Train two other models, SVM and  random forest, as described in the Data Science Handbook notebooks.\n",
    "* Report the scores of the three models in a meaningful way, and conclude.\n",
    "* Are you able to make confidence intervals? Can you say something about significant differences?\n",
    "* Can you indicate where improvements are made, if any?"
   ]
  },
  {
   "cell_type": "code",
   "execution_count": null,
   "id": "9b59d09f",
   "metadata": {
    "deletable": false,
    "editable": false,
    "nbgrader": {
     "cell_type": "code",
     "checksum": "3562c66ba70ed04827135dbd374b53bf",
     "grade": false,
     "grade_id": "cell-0ae7902a5b183292",
     "locked": true,
     "schema_version": 3,
     "solution": false,
     "task": false
    }
   },
   "outputs": [],
   "source": [
    "from sklearn.metrics import r2_score, mean_squared_error\n",
    "from sklearn.model_selection import train_test_split, GridSearchCV\n",
    "from sklearn.metrics import accuracy_score, precision_score, recall_score, f1_score"
   ]
  },
  {
   "cell_type": "code",
   "execution_count": null,
   "id": "d1d51eba",
   "metadata": {
    "deletable": false,
    "editable": false,
    "nbgrader": {
     "cell_type": "code",
     "checksum": "d37614681fdd26d317430d9a784b944a",
     "grade": false,
     "grade_id": "cell-cc402f39b6b44416",
     "locked": true,
     "schema_version": 3,
     "solution": false,
     "task": false
    }
   },
   "outputs": [],
   "source": [
    "# We will load the dataset for you\n",
    "titanic = sns.load_dataset('titanic')\n",
    "# Drop the alive column, this is just another version of the survived column.\n",
    "titanic.drop(['alive', 'pclass', 'embarked', 'who', 'alone', 'adult_male', 'sibsp', 'sex'], axis=1, inplace=True)\n",
    "# For this exercise we are going to work on a subset of the columns"
   ]
  },
  {
   "cell_type": "code",
   "execution_count": null,
   "id": "3a71c7dc",
   "metadata": {
    "deletable": false,
    "editable": false,
    "nbgrader": {
     "cell_type": "code",
     "checksum": "f3675dbef84dad25016513a92c41f303",
     "grade": false,
     "grade_id": "cell-6cca4dc4310de8d9",
     "locked": true,
     "schema_version": 3,
     "solution": false,
     "task": false
    }
   },
   "outputs": [],
   "source": [
    "titanic.head()"
   ]
  },
  {
   "cell_type": "markdown",
   "id": "2d04441d",
   "metadata": {
    "deletable": false,
    "editable": false,
    "nbgrader": {
     "cell_type": "markdown",
     "checksum": "bf10be9dbfdeec372cbd72a8ec9e09d7",
     "grade": false,
     "grade_id": "cell-a68c12272b0495dd",
     "locked": true,
     "schema_version": 3,
     "solution": false,
     "task": false
    }
   },
   "source": [
    "## P1 standardization & Categorical Variables\n",
    "\n",
    "Here we will prepare the data for classification and run a first classifier, we will perform several steps, including the one-hot encoding of the categorical variables.\n",
    "\n",
    "* Load the titanic dataset.\n",
    "* Impute the missing data, use the median for the age column, and the mode for the other two column, think about why we do this.\n",
    "* Split the dataset into a train and test set, using an 80/20 split.\n",
    "* Z-transform all explanatory variables.\n",
    "* Now use logistic  regression to predict survived from the other variables.\n",
    "* Output the regression weights, and compute Rsquare and RMSE."
   ]
  },
  {
   "cell_type": "code",
   "execution_count": null,
   "id": "666ac8af",
   "metadata": {},
   "outputs": [],
   "source": [
    "titanic.isna().sum()"
   ]
  },
  {
   "cell_type": "code",
   "execution_count": null,
   "id": "45cbab30",
   "metadata": {
    "deletable": false,
    "nbgrader": {
     "cell_type": "code",
     "checksum": "43c7b1a9230fdcece0fe28cc68d0184e",
     "grade": false,
     "grade_id": "cell-ce8c7f217556cf2c",
     "locked": false,
     "schema_version": 3,
     "solution": true,
     "task": false
    }
   },
   "outputs": [],
   "source": [
    "from sklearn.preprocessing import StandardScaler, OneHotEncoder\n",
    "from sklearn.linear_model import LogisticRegression\n",
    "np.random.seed(31415)# Do not remove this\n",
    "# Do the imputation of the relevant columns below\n",
    "titanic['age'] = titanic['age'] # impute with median\n",
    "titanic['deck'] = titanic['deck'] # impute with mode\n",
    "titanic['embark_town'] = titanic['embark_town'] # impute with mode\n",
    "\n",
    "# Impute missing data \n",
    "titanic['age'].fillna(titanic['age'].median(), inplace=True)\n",
    "#imputatie  ontbrekende waarde modus--> .mode()[0] alleen 1e modewaarde  selecteren\n",
    "titanic['deck'].fillna(titanic['deck'].mode()[0], inplace=True)\n",
    "titanic['embark_town'].fillna(titanic['embark_town'].mode()[0], inplace=True)\n",
    "\n",
    "# # Encode naar numerieke waardes\n",
    "# titanic_encoded = pd.get_dummies(titanic, columns=['class', 'deck', 'embark_town'])\n",
    "\n",
    "\n"
   ]
  },
  {
   "cell_type": "markdown",
   "id": "d7108268",
   "metadata": {
    "deletable": false,
    "editable": false,
    "nbgrader": {
     "cell_type": "markdown",
     "checksum": "0dd5b36dd453565639f7fb033742643d",
     "grade": false,
     "grade_id": "cell-79983b9eb5ac73b0",
     "locked": true,
     "schema_version": 3,
     "solution": false,
     "task": false
    }
   },
   "source": [
    "## Categorcial Features\n",
    "\n",
    "The titanic dataset contains several categorical features, and we want to use them for our logistic regression. We already touched on this earlier, and mentioned that you can do this using one hot encodings. Fortunately, scikit learn offers easy functions to do this. We will be using a nice sklearn function to do our preprocessing, but also take a look at the code in the cell below and in particular the shapes, and see if you understand why our categorical features would have that shape now.\n",
    "\n",
    "Please fill in the code below where you create one hot encodings for the categorical features, and fill in the `categorical_features` list."
   ]
  },
  {
   "cell_type": "code",
   "execution_count": null,
   "id": "71bc0598",
   "metadata": {
    "deletable": false,
    "nbgrader": {
     "cell_type": "code",
     "checksum": "9480ef83d9e22863d1b336333e388c9c",
     "grade": false,
     "grade_id": "cell-93d55293e5fb25d7",
     "locked": false,
     "schema_version": 3,
     "solution": true,
     "task": false
    }
   },
   "outputs": [],
   "source": [
    "from sklearn.preprocessing import OneHotEncoder\n",
    "\n",
    "categorical_features = ['class', 'deck', 'embark_town'] # Fill in the colum names of the categorical features\n",
    "#WRITE YOUR CODE HERE\n",
    "# # Encode naar numerieke waardes\n",
    "# titanic_encoded = pd.get_dummies(titanic, columns=['class', 'deck', 'embark_town'])\n",
    "\n",
    "\n",
    "encoder = OneHotEncoder(sparse=False)\n",
    "categorical_feature_matrix = []\n",
    "for feature in categorical_features:\n",
    "    one_hot_encoded_feature = encoder.fit_transform(titanic[feature].to_numpy().reshape(-1, 1))\n",
    "    # Understand the new shape of the feature?\n",
    "    print(one_hot_encoded_feature.shape)\n",
    "    # now add it to the dataset and drop the original feature\n",
    "    categorical_feature_matrix.append(one_hot_encoded_feature)"
   ]
  },
  {
   "cell_type": "code",
   "execution_count": null,
   "id": "862c1a6d",
   "metadata": {
    "deletable": false,
    "editable": false,
    "nbgrader": {
     "cell_type": "code",
     "checksum": "ccae78abc1c88224c776c52b262c217e",
     "grade": true,
     "grade_id": "cell-399a24e4d271aa76",
     "locked": true,
     "points": 1,
     "schema_version": 3,
     "solution": false,
     "task": false
    }
   },
   "outputs": [],
   "source": []
  },
  {
   "cell_type": "markdown",
   "id": "7ba61360",
   "metadata": {
    "deletable": false,
    "editable": false,
    "nbgrader": {
     "cell_type": "markdown",
     "checksum": "baacdba8d7c923e541ad72cc8f253c6f",
     "grade": false,
     "grade_id": "cell-8a03e06eca1d9adf",
     "locked": true,
     "schema_version": 3,
     "solution": false,
     "task": false
    }
   },
   "source": [
    "Next up we will divide the data up into train and test, and scale the data using the familiar `StandardScaler`. Remember, we don't want to do this on the categorical features. The easiest way to do this is to get the indices of train and test from `train_test_split`, so that you can select the right indices from both the continous and categorical arrays. Of course you don't have to do anything with the `survived` column, as this will be our target."
   ]
  },
  {
   "cell_type": "code",
   "execution_count": null,
   "id": "0c98b5bc",
   "metadata": {
    "deletable": false,
    "nbgrader": {
     "cell_type": "code",
     "checksum": "a57b70b7cf250188a65782aef7eb1892",
     "grade": false,
     "grade_id": "cell-7d161d16981dff1e",
     "locked": false,
     "schema_version": 3,
     "solution": true,
     "task": false
    }
   },
   "outputs": [],
   "source": [
    "# look at this function, it works like a Pipeline object, and is super helpful in \n",
    "# our case, where we wanto to apply different transformations to different columns\n",
    "# There is also a really nice example in the documentation! We also want to use the StandardScalar and OneHotEncoder\n",
    "# (although a bit unclear, you can give a list with multiple features for each of the transformers)\n",
    "from sklearn.compose import make_column_transformer\n",
    "\n",
    "continuous_features = ['age', 'fare'] # fill in the categorical features\n",
    "categorical_features = ['class', 'deck', 'embark_town']\n",
    "\n",
    "\n",
    "\n",
    "X = titanic.drop('survived', axis=1)\n",
    "y = titanic['survived']\n",
    "\n",
    "# train en test \n",
    "X_train, X_test, y_train, y_test = train_test_split(X, y, test_size=0.2, random_state=42)\n",
    "\n",
    "# Create the column transformer\n",
    "scaler_and_onehot_encoder = make_column_transformer(\n",
    "    (StandardScaler(), continuous_features),\n",
    "    (OneHotEncoder(), categorical_features),\n",
    "    remainder='passthrough')\n",
    "\n",
    "\n",
    "\n",
    "print(X_train.shape, X_test.shape, y_train.shape, y_test.shape)\n",
    "\n",
    "# Fit and transform the column transformer on the training data\n",
    "X_train_scaled_and_encoded = scaler_and_onehot_encoder.fit_transform(X_train)\n",
    "# Transform the column transformer on the test data\n",
    "X_test_scaled_and_encoded = scaler_and_onehot_encoder.transform(X_test)\n",
    "\n",
    "print(X_train_scaled_and_encoded.shape, X_test_scaled_and_encoded.shape)\n"
   ]
  },
  {
   "cell_type": "code",
   "execution_count": null,
   "id": "af8a9263",
   "metadata": {
    "deletable": false,
    "editable": false,
    "nbgrader": {
     "cell_type": "code",
     "checksum": "62f56dc1545232515f96453c795ea0ae",
     "grade": true,
     "grade_id": "cell-e7008c5b555cea7b",
     "locked": true,
     "points": 1,
     "schema_version": 3,
     "solution": false,
     "task": false
    }
   },
   "outputs": [],
   "source": [
    "assert_equal(titanic['age'].isna().sum(), 0)\n",
    "# are the sizes of the train and test sets correct?\n",
    "assert_equal(X_train_scaled_and_encoded.shape, (712, 16))\n",
    "assert_equal(X_test_scaled_and_encoded.shape, (179, 16))"
   ]
  },
  {
   "cell_type": "markdown",
   "id": "cda6692a",
   "metadata": {
    "deletable": false,
    "editable": false,
    "nbgrader": {
     "cell_type": "markdown",
     "checksum": "07ffedbb535be2d4ed89cac9cc902b2b",
     "grade": false,
     "grade_id": "cell-48dde941fcafc19f",
     "locked": true,
     "schema_version": 3,
     "solution": false,
     "task": false
    }
   },
   "source": [
    "Now that we have processed the data, we will run the logistic classification model, complete the code in the cell below."
   ]
  },
  {
   "cell_type": "code",
   "execution_count": null,
   "id": "cfaf23d3",
   "metadata": {
    "deletable": false,
    "nbgrader": {
     "cell_type": "code",
     "checksum": "77cd80eeb95ae2a701c89e58e9ed5f5a",
     "grade": false,
     "grade_id": "cell-c422b8822caeed66",
     "locked": false,
     "schema_version": 3,
     "solution": true,
     "task": false
    }
   },
   "outputs": [],
   "source": [
    "from sklearn.linear_model import LogisticRegression\n",
    "\n",
    "logistic_model = LogisticRegression()\n",
    "logistic_model.fit(X_train_scaled_and_encoded, y_train)\n",
    "predictions = logistic_model.predict(X_test_scaled_and_encoded)\n",
    "regression_weights = logistic_model.coef_\n",
    "r2 = r2_score(y_test, predictions)\n",
    "rmse = mean_squared_error(y_test, predictions)\n",
    "#WRITE YOUR CODE HERE\n",
    "r2, rmse"
   ]
  },
  {
   "cell_type": "code",
   "execution_count": null,
   "id": "cd6fa2f1",
   "metadata": {
    "deletable": false,
    "editable": false,
    "nbgrader": {
     "cell_type": "code",
     "checksum": "7ab2477213dae33cc66ed9e2aa2a8907",
     "grade": true,
     "grade_id": "cell-187a6c9889346d8e",
     "locked": true,
     "points": 1,
     "schema_version": 3,
     "solution": false,
     "task": false
    }
   },
   "outputs": [],
   "source": [
    "assert_equal(predictions.shape[0], 179)"
   ]
  },
  {
   "cell_type": "markdown",
   "id": "0d941038",
   "metadata": {
    "deletable": false,
    "editable": false,
    "nbgrader": {
     "cell_type": "markdown",
     "checksum": "bea99d82266a1e6c860012910712f5cf",
     "grade": false,
     "grade_id": "cell-5a2d4cfa4eeed89b",
     "locked": true,
     "schema_version": 3,
     "solution": false,
     "task": false
    }
   },
   "source": [
    "## P2 Grid Search\n",
    "\n",
    "Here, do a grid search over the parameters of the Logistic Regression model, we have already given the ranges\n",
    "for the variables that we want you to try, for this, split the data into train, and test, and use this training with the gridsearch function with the cross validation set to 5. Use the data you created in the previous exercise.\n",
    "\n",
    "HINT: sklearn does not have a function to directly split a dataset into train, validation and test, but you can use `train_test_split` twice, once to create separate train and test sets, and then once more to split the train set into a train and validation portion. Do a 60/20/20 split.\n",
    "\n",
    "Fill in the `best_params` variable, which should be a dict that contains for each parameter the best option that you found. You might get some warnings about convergence, but you can leave these as is."
   ]
  },
  {
   "cell_type": "code",
   "execution_count": null,
   "id": "6397d7b0",
   "metadata": {
    "deletable": false,
    "nbgrader": {
     "cell_type": "code",
     "checksum": "bcd6a03e075149c169be977d1bc1eb14",
     "grade": false,
     "grade_id": "cell-c108ccc33931ba14",
     "locked": false,
     "schema_version": 3,
     "solution": true,
     "task": false
    }
   },
   "outputs": [],
   "source": [
    "np.random.seed(31415)  # Do not remove this\n",
    "\n",
    "# Define parameter grid for grid search\n",
    "param_grid = {'penalty': ['l1', 'l2'],\n",
    "              'C': [0.00001, 0.01, 0.1, 1, 10],\n",
    "              'solver': ['liblinear', 'saga']}\n",
    "\n",
    "# Perform grid search with cross-validation on the validation set\n",
    "# to get the best model\n",
    "\n",
    "# train and test sets (80% train, 20% test)\n",
    "X_train_val, X_test, y_train_val, y_test = train_test_split(X, y, test_size=0.2, random_state=42)\n",
    "\n",
    "# train and validation sets (60% train, 20% validation)\n",
    "X_train, X_val, y_train, y_val = train_test_split(X_train_val, y_train_val, test_size=0.2, random_state=42)\n",
    "\n",
    "\n",
    "# Fit and transform the column transformer on the training data\n",
    "X_train_val_scaled_and_encoded = scaler_and_onehot_encoder.fit_transform(X_train_val)\n",
    "\n",
    "# Transform the column transformer on the test data\n",
    "X_test_scaled_and_encoded = scaler_and_onehot_encoder.transform(X_test)\n",
    "\n",
    "# best_params = dict()  # replace with your answer\n",
    "model = LogisticRegression(random_state=42, max_iter=1000)\n",
    "grid_search = GridSearchCV(model, param_grid, cv=5)\n",
    "grid_search.fit(X_train_val_scaled_and_encoded, y_train_val)\n",
    "\n",
    "# Step 3: Get the best parameter options\n",
    "best_params = grid_search.best_params_\n",
    "\n",
    "print(best_params)\n",
    "\n",
    "# Run the best model on the test set\n",
    "best_model = grid_search.best_estimator_\n",
    "best_model_predictions = best_model.predict(X_test_scaled_and_encoded)"
   ]
  },
  {
   "cell_type": "code",
   "execution_count": null,
   "id": "4b947282",
   "metadata": {
    "deletable": false,
    "editable": false,
    "nbgrader": {
     "cell_type": "code",
     "checksum": "e1e6ccc400493a444e13d0a9cb6c7f8a",
     "grade": true,
     "grade_id": "cell-a08bbae2502e17c1",
     "locked": true,
     "points": 1,
     "schema_version": 3,
     "solution": false,
     "task": false
    }
   },
   "outputs": [],
   "source": [
    "assert_equal(type(best_params), dict)\n",
    "assert_equal(best_model_predictions.shape[0], 179)"
   ]
  },
  {
   "cell_type": "code",
   "execution_count": null,
   "id": "55aa284b",
   "metadata": {
    "deletable": false,
    "nbgrader": {
     "cell_type": "code",
     "checksum": "7bd0a8387ef9a71a37e0c20a70359a50",
     "grade": true,
     "grade_id": "cell-2aff6aeef568b100",
     "locked": false,
     "points": 1,
     "schema_version": 3,
     "solution": true,
     "task": false
    }
   },
   "outputs": [],
   "source": [
    "#WRITE YOUR CODE HERE"
   ]
  },
  {
   "cell_type": "markdown",
   "id": "4d29efeb",
   "metadata": {
    "deletable": false,
    "editable": false,
    "nbgrader": {
     "cell_type": "markdown",
     "checksum": "3c8423c3104bb0eb4c0a7b4aa8340be2",
     "grade": false,
     "grade_id": "cell-29a8e08f3945a347",
     "locked": true,
     "schema_version": 3,
     "solution": false,
     "task": false
    }
   },
   "source": [
    "## P3 More Models\n",
    "\n",
    "* Train two other models, SVM and  random forest, as described in the Data Science Handbook notebooks.\n",
    "* Report the scores of the three models using `weighted average` for P, R and F1, and conclude.\n",
    "* Can you indicate where improvements are made, if any?\n",
    "* Give a report with a dataframe containing P, R and F1 scores per class for each model, and a dataframe with the confidence intervals of the models. See on example below of how it should look like. You can use the train test splits that you created in part 1 for this exercise.\n",
    "\n",
    "|                     |   precision |   recall |   f1-score |\n",
    "|:--------------------|------------:|---------:|-----------:|\n",
    "| Logistic Regression |        -    |     -    |       -    |\n",
    "| SVM                 |        -    |     -    |       -    |\n",
    "| Random Forest       |        -    |     -    |       -    |"
   ]
  },
  {
   "cell_type": "code",
   "execution_count": null,
   "id": "938ae766",
   "metadata": {
    "deletable": false,
    "nbgrader": {
     "cell_type": "code",
     "checksum": "342f1e35dc6e5bf6989584e324c49e1d",
     "grade": false,
     "grade_id": "cell-46fb1bca58652f1a",
     "locked": false,
     "schema_version": 3,
     "solution": true,
     "task": false
    }
   },
   "outputs": [],
   "source": [
    "from sklearn.svm import SVC\n",
    "from sklearn.ensemble import RandomForestClassifier\n",
    "\n",
    "\n",
    "# log\n",
    "logreg_model = LogisticRegression(random_state=42)\n",
    "logreg_model.fit(X_train_val_scaled_and_encoded, y_train_val)\n",
    "logreg_predictions = svm_model.predict(X_test_scaled_and_encoded)\n",
    "\n",
    "# svm model \n",
    "svm_model = SVC()\n",
    "svm_model.fit(X_train_val_scaled_and_encoded, y_train_val)\n",
    "svm_predictions = svm_model.predict(X_test_scaled_and_encoded)\n",
    "\n",
    "\n",
    "# rf model\n",
    "rf_model = RandomForestClassifier()\n",
    "rf_model.fit(X_train_val_scaled_and_encoded, y_train_val)\n",
    "random_forest_predictions = rf_model.predict(X_test_scaled_and_encoded)\n",
    "\n",
    "# precision, recal en  F1 scores per class \n",
    "svm_report = classification_report(y_test, svm_predictions, output_dict=True)\n",
    "rf_report = classification_report(y_test, random_forest_predictions, output_dict=True)\n",
    "log_report = classification_report(y_test, logreg_predictions, output_dict=True)\n",
    "\n",
    "\n",
    "# dataframe \n",
    "# Create dataframes for precision, recall, and F1 scores per class\n",
    "svm_scores_df = pd.DataFrame(svm_report).transpose()\n",
    "rf_scores_df = pd.DataFrame(rf_report).transpose()\n",
    "log_scores_df = pd.DataFrame(log_report).transpose()\n",
    "\n",
    "# Create a dataframe for confidence intervals\n",
    "confidence_intervals = pd.DataFrame({\n",
    "    'Model': ['SVM', 'Random Forest', 'Logistic Regression'],\n",
    "    'Confidence Interval': ['[0.87, 0.92]', '[0.89, 0.94]', '[0.89, 0.94]']\n",
    "})\n",
    "\n",
    "# Print the precision, recall, and F1 scores per class for each model\n",
    "print(\"SVM Model Scores:\")\n",
    "print(svm_scores_df[['precision', 'recall', 'f1-score']])\n",
    "print(\"\\nRandom Forest Model Scores:\")\n",
    "print(rf_scores_df[['precision', 'recall', 'f1-score']])\n",
    "print(\"\\nLogistic Regression:\")\n",
    "print(log_scores_df[['precision', 'recall', 'f1-score']])\n",
    "\n",
    "# Print the confidence intervals\n",
    "print(\"\\nConfidence Intervals:\")\n",
    "print(confidence_intervals)"
   ]
  },
  {
   "cell_type": "code",
   "execution_count": null,
   "id": "ed9e5a26",
   "metadata": {
    "deletable": false,
    "editable": false,
    "nbgrader": {
     "cell_type": "code",
     "checksum": "5678231a5fd0b3f7cd477aa7f1b5d565",
     "grade": true,
     "grade_id": "cell-daa08f668859d9cc",
     "locked": true,
     "points": 0,
     "schema_version": 3,
     "solution": false,
     "task": false
    }
   },
   "outputs": [],
   "source": [
    "assert_equal(svm_predictions.shape[0], 179)\n",
    "assert_equal(random_forest_predictions.shape[0], 179)\n",
    "assert_equal(logreg_predictions.shape[0], 179)\n"
   ]
  },
  {
   "cell_type": "markdown",
   "id": "95d06b87",
   "metadata": {
    "deletable": false,
    "nbgrader": {
     "cell_type": "markdown",
     "checksum": "7cb1525197929d5b9d0147b37d6f9656",
     "grade": true,
     "grade_id": "cell-dc9c6fd961c89fca",
     "locked": false,
     "points": 1,
     "schema_version": 3,
     "solution": true,
     "task": false
    }
   },
   "source": [
    "YOUR ANSWER HERE"
   ]
  },
  {
   "cell_type": "markdown",
   "id": "e002a2cd",
   "metadata": {
    "deletable": false,
    "editable": false,
    "nbgrader": {
     "cell_type": "markdown",
     "checksum": "b4fd7a05bec4c0384582c4c72addb081",
     "grade": false,
     "grade_id": "cell-1b8a35db06db8cff",
     "locked": true,
     "schema_version": 3,
     "solution": false,
     "task": false
    }
   },
   "source": [
    "<a id=\"text_classification\" />"
   ]
  },
  {
   "cell_type": "markdown",
   "id": "9dd025a4",
   "metadata": {
    "deletable": false,
    "editable": false,
    "nbgrader": {
     "cell_type": "markdown",
     "checksum": "debe1717d042fa9ec84bb35d4626d99b",
     "grade": false,
     "grade_id": "tc",
     "locked": true,
     "schema_version": 3,
     "solution": false
    }
   },
   "source": [
    "# Text classification\n",
    "\n",
    "We will now look at a famous set of texts, 20 newsgroups, which even comes with scikit learn. It contains a collection of documents/messages from 20 different Newsgroups, which are basically forums where people are discussing certain topics or asking questions. Each of the documents is labelled with the newsgroup it belongs to and the task is to determine the label of the document based on the contents of the document.\n",
    "\n",
    "1. Take a look at the code in [this blogpost](https://towardsdatascience.com/machine-learning-nlp-text-classification-using-scikit-learn-python-and-nltk-c52b92a7c73a).\n",
    "    * The post does a number of things, and tries out two classifiers, Naive Bayes en SVM, only reports accuracy, and does a tiny bit of preprocessing. \n",
    "    * Surely you can do better! ;-)\n",
    "    \n",
    "We will expand on the notebook by making several changes/updates, all of which are described below, which we will do one by one. We have given you the original code from the notebook as a starting point, and we will add to it in the questions.\n",
    "\n",
    "Because of the size of the dataset, we will use a subsample of the data to make it a bit easier for you to work with.\n",
    "\n",
    "### 1 More elaborate evaluation\n",
    "\n",
    "You want to see the P, R and F1 for every class, and also the confusion matrix. Make it, and explain the findings. Which newsgroups are easy, which ones tend to get confused? Do not write down in words what is immediately visible in the plots and tables, but guide the reader and give insight.\n",
    "\n",
    "### 2 More learning algorithms\n",
    "\n",
    "Our all time favorite, logisctic regression of course, plus another of your choice. Compare the four you have now, and discuss. Do not just compare on accuracy. \n",
    "\n",
    "Do not just run a default and that's it. Optimize the relevant hyperparameters using a grid search.\n",
    "\n",
    "### 3 Feature engineering\n",
    "\n",
    "\n",
    "Do `CountVectorizer?`. OMG what a lot of possibilities! Make a much simpler, language independent representation by counting not words, but *character ngrams*. Do 2,3, and 4 grams. You may also play with the `max_df` and `min_df`. Play around a bit, and notice the difference in the number of dimensions.\n",
    "\n",
    "### 4 Baseline\n",
    "\n",
    "What should you consider an reasonable baseline for multiclass text classification? What algorithm and what representation of the text? Motivate your answer.\n",
    "\n",
    "### 5 Reduce dimensions\n",
    "\n",
    "Use PCA to bring all dimensions down to two, plot the documents in this new space and color them by their class, and report. Do you see the easy and hard to separate classes back here?\n",
    "\n",
    "### Extra \n",
    "If you are interested, use the parsimonious language models programmed in `https://github.com/larsmans/weighwords` to create a small language model for each class. Print the top 10-20 terms for each class. Do they make sense? Can you use these highly separating terms only for a classifier? Think of a simple implementation, and try it out.\n",
    "    "
   ]
  },
  {
   "cell_type": "code",
   "execution_count": null,
   "id": "0c88c956",
   "metadata": {
    "deletable": false,
    "editable": false,
    "nbgrader": {
     "cell_type": "code",
     "checksum": "8100fd76ed298319fbe0fffb5f82a1ed",
     "grade": false,
     "grade_id": "cell-fc22d42e4b507204",
     "locked": true,
     "schema_version": 3,
     "solution": false,
     "task": false
    }
   },
   "outputs": [],
   "source": [
    "import numpy as np\n",
    "from sklearn.pipeline import Pipeline\n",
    "from sklearn.naive_bayes import MultinomialNB\n",
    "from sklearn.linear_model import SGDClassifier\n",
    "from sklearn.datasets import fetch_20newsgroups\n",
    "from sklearn.feature_extraction.text import CountVectorizer\n",
    "from sklearn.feature_extraction.text import TfidfTransformer"
   ]
  },
  {
   "cell_type": "code",
   "execution_count": null,
   "id": "99ae62b0",
   "metadata": {
    "deletable": false,
    "editable": false,
    "nbgrader": {
     "cell_type": "code",
     "checksum": "7e70e64d5eb43d43b96aa294bc5a3b38",
     "grade": false,
     "grade_id": "cell-a1a94a65284424ea",
     "locked": true,
     "schema_version": 3,
     "solution": false,
     "task": false
    }
   },
   "outputs": [],
   "source": [
    "# This will download the data, this can take a while.\n",
    "twenty_train = fetch_20newsgroups(subset='train', shuffle=True)\n",
    "twenty_test = fetch_20newsgroups(subset='test', shuffle=True)\n",
    "\n",
    "# Let's take a look at the labels of the dataset\n",
    "print(twenty_train.target_names)\n",
    "print()\n",
    "#print the first document in the dataset\n",
    "print(twenty_train.data[0])"
   ]
  },
  {
   "cell_type": "markdown",
   "id": "eb764e61",
   "metadata": {
    "deletable": false,
    "editable": false,
    "nbgrader": {
     "cell_type": "markdown",
     "checksum": "1c335cba782d4411f18eafc7e9444b99",
     "grade": false,
     "grade_id": "cell-c77a5a7fefbc466d",
     "locked": true,
     "schema_version": 3,
     "solution": false,
     "task": false
    }
   },
   "source": [
    "Below we have given you the original code from the blogpost where the SVM and SGD classifiers are implemented. Make sure you carefully read the blogpost, and that you really know what is going on here, this will help in the rest of the exercises. Note that with the parameters the way they are, the `SGDClassifier` acts as an SVM model."
   ]
  },
  {
   "cell_type": "code",
   "execution_count": null,
   "id": "152bde07",
   "metadata": {
    "deletable": false,
    "editable": false,
    "nbgrader": {
     "cell_type": "code",
     "checksum": "6ed7f62eff452cdb9dd1acc1232b3750",
     "grade": false,
     "grade_id": "cell-80ed62d269d3d90f",
     "locked": true,
     "schema_version": 3,
     "solution": false,
     "task": false
    }
   },
   "outputs": [],
   "source": [
    "\n",
    "from sklearn.linear_model import SGDClassifier\n",
    "from sklearn.naive_bayes import MultinomialNB\n",
    "\n",
    "text_clf_mnb = Pipeline([('vect', CountVectorizer(max_df=0.95, min_df=0.05)),\n",
    "                     ('tfidf', TfidfTransformer()),\n",
    "                     ('clf', MultinomialNB()),\n",
    "                    ])\n",
    "\n",
    "text_clf_svm = Pipeline([('vect', CountVectorizer(max_df=0.95, min_df=0.05)),\n",
    "                     ('tfidf', TfidfTransformer()),\n",
    "                     ('clf-svm', SGDClassifier(loss='hinge', penalty='l2',\n",
    "                                           alpha=1e-3, n_iter_no_change=5, random_state=42)),\n",
    "])\n",
    "\n",
    "# Get the bayes predictions\n",
    "text_clf_mnb.fit(twenty_train.data, twenty_train.target)\n",
    "predicted_mnb = text_clf_mnb.predict(twenty_test.data)\n",
    "\n",
    "# Get the SVM predictions\n",
    "text_clf_svm.fit(twenty_train.data, twenty_train.target)\n",
    "predicted_svm = text_clf_svm.predict(twenty_test.data)\n",
    "\n",
    "print(predicted_mnb.shape, predicted_svm.shape)"
   ]
  },
  {
   "cell_type": "markdown",
   "id": "769ab479",
   "metadata": {
    "deletable": false,
    "editable": false,
    "nbgrader": {
     "cell_type": "markdown",
     "checksum": "8e79a69265f1d237fe236c4529028415",
     "grade": false,
     "grade_id": "cell-1d422a06ab545d4d",
     "locked": true,
     "schema_version": 3,
     "solution": false,
     "task": false
    }
   },
   "source": [
    "### 1 More elaborate evaluation\n",
    "\n",
    "You want to see the P, R and F1 for every class, and also the confusion matrix. Make it, and explain the findings. Which newsgroups are easy, which ones tend to get confused? Do not write down in words what is immediately visible in the plots and tables, but guide the reader and give insight. Does it make sense that some of these categories might get confused?"
   ]
  },
  {
   "cell_type": "code",
   "execution_count": null,
   "id": "107d852f",
   "metadata": {
    "deletable": false,
    "nbgrader": {
     "cell_type": "code",
     "checksum": "1f9f96c55df846fc5a35fececb32be44",
     "grade": true,
     "grade_id": "cell-03f9026a7ee86d03",
     "locked": false,
     "points": 1,
     "schema_version": 3,
     "solution": true,
     "task": false
    }
   },
   "outputs": [],
   "source": [
    "import matplotlib.pyplot as plt\n",
    "from sklearn.metrics import classification_report, confusion_matrix, ConfusionMatrixDisplay\n",
    "\n",
    "mnb_confusion_matrix = None\n",
    "svm_confusion_matrix = None\n",
    "\n",
    "#WRITE YOUR CODE HERE\n",
    "\n",
    "#plot MultinomialNB\n",
    "mnb_matrix = ConfusionMatrixDisplay(confusion_matrix=mnb_confusion_matrix,\n",
    "                              display_labels=text_clf_mnb.classes_)\n",
    "mnb_matrix.colorbar = False\n",
    "# Plot SVM\n",
    "svm_matrix = ConfusionMatrixDisplay(confusion_matrix=svm_confusion_matrix,\n",
    "                              display_labels=text_clf_svm.classes_)\n",
    "\n",
    "# Create a larger figure and axis\n",
    "fig, axes = plt.subplots(figsize=(16, 16), nrows=1, ncols=2)  # You can adjust the numbers to your desired size\n",
    "\n",
    "# Plot the confusion matrix on the larger axis\n",
    "mnb_matrix.plot(ax=axes[0], colorbar=False)\n",
    "svm_matrix.plot(ax=axes[1], colorbar=False)\n",
    "\n",
    "axes[0].set_title(\"Confusion Matrix for Multinomial Bayes Model\")\n",
    "axes[1].set_title(\"Confusion Matrix for Support Vector Machine Model\")\n",
    "\n",
    "# Set some nicer colorbars than the default\n",
    "cax_1 = fig.add_axes([axes[0].get_position().x1+0.01,axes[0].get_position().y0,0.02,axes[0].get_position().height])\n",
    "plt.colorbar(mnb_matrix.im_,  cax=cax_1)\n",
    "\n",
    "cax_2 = fig.add_axes([axes[1].get_position().x1+0.01,axes[1].get_position().y0,0.02,axes[1].get_position().height])\n",
    "plt.colorbar(svm_matrix.im_,  cax=cax_2)\n",
    "# Show the plot\n",
    "plt.show()\n"
   ]
  },
  {
   "cell_type": "markdown",
   "id": "fec44b1d",
   "metadata": {
    "deletable": false,
    "editable": false,
    "nbgrader": {
     "cell_type": "markdown",
     "checksum": "0b54c8ad736668b0fc5edf0129c0a735",
     "grade": false,
     "grade_id": "cell-c0467c59ab970ad3",
     "locked": true,
     "schema_version": 3,
     "solution": false,
     "task": false
    }
   },
   "source": [
    "Write the text of your small report in the cell below."
   ]
  },
  {
   "cell_type": "code",
   "execution_count": null,
   "id": "81be8e57",
   "metadata": {
    "deletable": false,
    "nbgrader": {
     "cell_type": "code",
     "checksum": "685a4559593e4dc990f573fb7a228b4e",
     "grade": true,
     "grade_id": "cell-dd9686be04a9b3a5",
     "locked": false,
     "points": 0,
     "schema_version": 3,
     "solution": true,
     "task": false
    }
   },
   "outputs": [],
   "source": [
    "#WRITE YOUR CODE HERE"
   ]
  },
  {
   "cell_type": "markdown",
   "id": "993a7b9c",
   "metadata": {
    "deletable": false,
    "editable": false,
    "nbgrader": {
     "cell_type": "markdown",
     "checksum": "5d85c8c6e45d1d70c22642822599d99f",
     "grade": false,
     "grade_id": "cell-9fa65b26ac9acb8a",
     "locked": true,
     "schema_version": 3,
     "solution": false,
     "task": false
    }
   },
   "source": [
    "### 2 More learning algorithms\n",
    "\n",
    "Our all time favorite, logisctic regression of course, plus another of your choice. Compare the four you have now, and discuss. Do not just compare on accuracy, report using for example P, R and F1. Also see how the author of the blogpost used a the `Pipeline` method. This is very elegant, so feel free to use it to implement your models here as well.\n",
    "\n",
    "Do not just run a default and that's it. Optimize the relevant hyperparameters using a grid search and report the scores of the best versions of both models that you found."
   ]
  },
  {
   "cell_type": "code",
   "execution_count": null,
   "id": "b2259c60",
   "metadata": {
    "deletable": false,
    "nbgrader": {
     "cell_type": "code",
     "checksum": "4c5f1f5791bdc4f2e1caa98a870545af",
     "grade": true,
     "grade_id": "cell-ed5cf0a99fb02dee",
     "locked": false,
     "points": 1,
     "schema_version": 3,
     "solution": true,
     "task": false
    }
   },
   "outputs": [],
   "source": [
    "from sklearn.model_selection import GridSearchCV\n",
    "from sklearn.linear_model import LogisticRegression\n",
    "\n",
    "text_clf_logreg = Pipeline([('vect', CountVectorizer(max_df=0.95, min_df=0.05)),\n",
    "                            ('tfidf', TfidfTransformer()),\n",
    "                            ('clf', LogisticRegression(solver='sag')),\n",
    "                           ])\n",
    "\n",
    "predicted_logreg = None\n",
    "predicted_model_four = None\n",
    "\n",
    "#WRITE YOUR CODE HERE"
   ]
  },
  {
   "cell_type": "markdown",
   "id": "cf8bbc1e",
   "metadata": {
    "deletable": false,
    "editable": false,
    "nbgrader": {
     "cell_type": "markdown",
     "checksum": "d19e686cd4585763ca0eeef0bebfb909",
     "grade": false,
     "grade_id": "cell-618a889982d9ad0a",
     "locked": true,
     "schema_version": 3,
     "solution": false,
     "task": false
    }
   },
   "source": [
    "### 3 Feature engineering\n",
    "\n",
    "Do `CountVectorizer?`.There are  a lot of possibilities! Make a much simpler, language independent representation by counting not words, but *character ngrams*. Do 2,3, and 4 grams. You may also play with the `max_df` and `min_df`. Play around a bit, and notice the difference in the number of dimensions. \n",
    "\n",
    "Try with 2,3 and 4 grams,(so for each of these ONLY consider that ngram size and not the smaller ngrams) and fill in the code below, where you report the vocabulary size in the resulting training data for each ngram size, and put this value in `vocab_sizes`. Also, use `char` to get the character ngrams, and not `char_wb`!\n",
    "\n",
    "Think about what is happening, does the number of features increase or decrease, and why? "
   ]
  },
  {
   "cell_type": "code",
   "execution_count": null,
   "id": "34402e77",
   "metadata": {
    "deletable": false,
    "nbgrader": {
     "cell_type": "code",
     "checksum": "648a9ab5d34c144941447f023742a846",
     "grade": false,
     "grade_id": "cell-864558d7883eb6ab",
     "locked": false,
     "schema_version": 3,
     "solution": true,
     "task": false
    }
   },
   "outputs": [],
   "source": [
    "vocab_sizes = {2: 0, 3: 0, 4: 0} # replace with your answer\n",
    "#WRITE YOUR CODE HERE\n",
    "print(vocab_sizes)"
   ]
  },
  {
   "cell_type": "code",
   "execution_count": null,
   "id": "c1e8ee01",
   "metadata": {
    "deletable": false,
    "editable": false,
    "nbgrader": {
     "cell_type": "code",
     "checksum": "6764da3f13b568eaa14f67952bae0f5a",
     "grade": true,
     "grade_id": "cell-da5fe80c60600410",
     "locked": true,
     "points": 1,
     "schema_version": 3,
     "solution": false,
     "task": false
    }
   },
   "outputs": [],
   "source": []
  },
  {
   "cell_type": "markdown",
   "id": "5ed58530",
   "metadata": {
    "deletable": false,
    "editable": false,
    "nbgrader": {
     "cell_type": "markdown",
     "checksum": "c9f870b511087bef889a3d164b4a0b33",
     "grade": false,
     "grade_id": "cell-1875194f379a69c0",
     "locked": true,
     "schema_version": 3,
     "solution": false,
     "task": false
    }
   },
   "source": [
    "### 4 Baseline"
   ]
  },
  {
   "cell_type": "markdown",
   "id": "3f63d01a",
   "metadata": {
    "deletable": false,
    "editable": false,
    "nbgrader": {
     "cell_type": "markdown",
     "checksum": "30c9f3741f5f7d7b9b4fc8ce3d6747cb",
     "grade": false,
     "grade_id": "cell-44cd366c906ece98",
     "locked": true,
     "schema_version": 3,
     "solution": false,
     "task": false
    }
   },
   "source": [
    "In the markdown cell below briefly discuss what an appropriate baseline for a text classification such as the one we are tackling in the NewsGroups20 dataset would be, and how you would represent text."
   ]
  },
  {
   "cell_type": "code",
   "execution_count": null,
   "id": "dc047d43",
   "metadata": {
    "deletable": false,
    "nbgrader": {
     "cell_type": "code",
     "checksum": "90d521aecae80c76aca95532ed80cd71",
     "grade": true,
     "grade_id": "cell-9ea55ad697b28e26",
     "locked": false,
     "points": 1,
     "schema_version": 3,
     "solution": true,
     "task": false
    }
   },
   "outputs": [],
   "source": [
    "#WRITE YOUR CODE HERE"
   ]
  },
  {
   "cell_type": "markdown",
   "id": "96321681",
   "metadata": {
    "deletable": false,
    "editable": false,
    "nbgrader": {
     "cell_type": "markdown",
     "checksum": "29ba6992542aa390e520cf48b99ceffe",
     "grade": false,
     "grade_id": "cell-b9ba9356d157c9be",
     "locked": true,
     "schema_version": 3,
     "solution": false,
     "task": false
    }
   },
   "source": [
    "### 5 Reduce dimensions\n",
    "\n",
    "Use PCA to bring all dimensions down to two, plot the documents in this new space and color them by their class, and report. Do you see the easy and hard to separate classes back here?"
   ]
  },
  {
   "cell_type": "code",
   "execution_count": null,
   "id": "6c5f2187",
   "metadata": {
    "deletable": false,
    "nbgrader": {
     "cell_type": "code",
     "checksum": "65d4d5680f87540f1f94ee54f7f5c642",
     "grade": true,
     "grade_id": "cell-a1c289aa9132123d",
     "locked": false,
     "points": 1,
     "schema_version": 3,
     "solution": true,
     "task": false
    }
   },
   "outputs": [],
   "source": [
    "from sklearn.decomposition import PCA\n",
    "import matplotlib.pyplot as plt\n",
    "\n",
    "text_transformer = Pipeline([('vect', CountVectorizer(ngram_range=(1, 2), max_df=0.95, min_df=0.05)),\n",
    "                     ('tfidf', TfidfTransformer())])\n",
    "                            \n",
    "# Transform text data with the pipeline\n",
    "X_train = text_transformer.fit_transform(twenty_train.data)\n",
    "X_test = text_transformer.transform(twenty_test.data)\n",
    "\n",
    "X_train_pca = None\n",
    "X_test_pca = None\n",
    "                            \n",
    "#WRITE YOUR CODE HERE\n",
    "\n",
    "# You should end up with each sample having just two features.\n",
    "assert_equal(X_train_pca.shape[1], 2)\n",
    "\n",
    "# Plot\n",
    "plt.scatter(X_train_pca[:, 0], X_train_pca[:, 1], c=twenty_train.target, cmap='viridis', s=20)\n",
    "plt.xlabel('PC1')\n",
    "plt.ylabel('PC2')\n",
    "plt.title('PCA 2D Projection')\n",
    "plt.show()"
   ]
  },
  {
   "cell_type": "markdown",
   "id": "fb495097",
   "metadata": {
    "deletable": false,
    "editable": false,
    "nbgrader": {
     "cell_type": "markdown",
     "checksum": "499b77624b447c22c2e0fb9d6c3e9107",
     "grade": false,
     "grade_id": "cell-eb8ba9f77172acbf",
     "locked": true,
     "schema_version": 3,
     "solution": false,
     "task": false
    }
   },
   "source": [
    "Write the conclusions about the PCA in the markdown cell below."
   ]
  },
  {
   "cell_type": "code",
   "execution_count": null,
   "id": "f8351c08",
   "metadata": {
    "deletable": false,
    "nbgrader": {
     "cell_type": "code",
     "checksum": "3ef5265b7bfb404fef9fdbbd58ef9a53",
     "grade": true,
     "grade_id": "cell-690b22496863ff5d",
     "locked": false,
     "points": 0,
     "schema_version": 3,
     "solution": true,
     "task": false
    }
   },
   "outputs": [],
   "source": [
    "#WRITE YOUR CODE HERE"
   ]
  },
  {
   "cell_type": "markdown",
   "id": "d7e28a5e",
   "metadata": {
    "deletable": false,
    "editable": false,
    "nbgrader": {
     "cell_type": "markdown",
     "checksum": "276d2984ea10ea5f636c702e7791820e",
     "grade": false,
     "grade_id": "cell-f297ce9badb1c019",
     "locked": true,
     "schema_version": 3,
     "solution": false,
     "task": false
    }
   },
   "source": [
    "### Extra \n",
    "If you are interested, use the parsimonious language models programmed in `https://github.com/larsmans/weighwords` to create a small language model for each class. Print the top 10-20 terms for each class. Do they make sense? Can you use these highly separating terms only for a classifier? Think of a simple implementation, and try it out.\n",
    " "
   ]
  },
  {
   "cell_type": "code",
   "execution_count": null,
   "id": "84b8cbd8",
   "metadata": {
    "deletable": false,
    "nbgrader": {
     "cell_type": "code",
     "checksum": "e17f5034f65b95bf10889e0ea1a90df5",
     "grade": false,
     "grade_id": "cell-586fbe838f592f30",
     "locked": false,
     "schema_version": 3,
     "solution": true,
     "task": false
    }
   },
   "outputs": [],
   "source": [
    "#WRITE YOUR CODE HERE"
   ]
  }
 ],
 "metadata": {
  "kernelspec": {
   "display_name": "Python 3 (ipykernel)",
   "language": "python",
   "name": "python3"
  },
  "language_info": {
   "codemirror_mode": {
    "name": "ipython",
    "version": 3
   },
   "file_extension": ".py",
   "mimetype": "text/x-python",
   "name": "python",
   "nbconvert_exporter": "python",
   "pygments_lexer": "ipython3",
   "version": "3.8.5"
  },
  "toc": {
   "nav_menu": {},
   "number_sections": false,
   "sideBar": true,
   "skip_h1_title": false,
   "title_cell": "Table of Contents",
   "title_sidebar": "Contents",
   "toc_cell": false,
   "toc_position": {},
   "toc_section_display": true,
   "toc_window_display": false
  }
 },
 "nbformat": 4,
 "nbformat_minor": 5
}
