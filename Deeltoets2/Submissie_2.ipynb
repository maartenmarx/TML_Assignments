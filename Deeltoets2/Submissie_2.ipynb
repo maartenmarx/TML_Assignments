{
 "cells": [
  {
   "cell_type": "markdown",
   "id": "1dad2351",
   "metadata": {},
   "source": [
    "# Deeltoets2 Toegepaste Machine Learning\n",
    "**Bachelor Informatiekunde**\n",
    "\n",
    "## Tentameninformatie\n",
    "\n",
    "**Datum:** 2023\n",
    "**Tijd:** 2 uur  (+30 minuten extra tijd)\n",
    "\n",
    "\n",
    "**Toegestane hulpmiddelen:** Boek als PDF op computer, Kladpapier, handgeschreven spiekbrief (1 A4, 1 kant beschreven)\n",
    "\n",
    "## Huishoudelijke mededelingen\n",
    "* Je mag tot uiterlijk 30 minuten na de begintijd starten.\n",
    "* Jouw telefoon, jas en tas liggen in de kluisjes buiten de tentamenzaal.\n",
    "* De eerste 30 minuten en de laatste 15 minuten mag je de zaal niet verlaten. Daarbuiten kan je als je het tentamen af  en ingeleverd hebt de zaal verlaten.\n",
    "* De ondersteuning voorin de zaal kan controleren of jouw tentamen correct is ingeleverd.\n",
    "* Plaats jouw collegekaart of een geldig legitimatiebewijs op de hoek van de tafel. Een surveillant komt langs om deze te controleren.\n",
    "* Toiletbezoek is alleen mogelijk met toestemming van een surveillant.\n",
    "\n",
    "## Spiekbrief\n",
    "\n",
    "* Laat die liggen, die lever je in.\n",
    "\n",
    "## Punten\n",
    "\n",
    "* Elke vraag is 1 punt waard, tenzij er wat anders bijstaat.\n",
    "* Bij deelvragen krijg je in de regel een evenredig deel van de punten."
   ]
  },
  {
   "cell_type": "markdown",
   "id": "5b3fb968",
   "metadata": {},
   "source": [
    "## Notebook made by\n",
    "\n",
    "__Namen__:Anoniem",
    "\n",
    "__Emails__:Anoniem",
    "\n",
    "__Student id__:Anoniem"
   ]
  },
  {
   "cell_type": "markdown",
   "id": "38428116",
   "metadata": {},
   "source": [
    "## Toelichting\n",
    "\n",
    "* De meeste opgaven worden automatisch nagekeken. Bij vrijwel alle opdrachten staan er een paar tests onder de opdracht, dit is voornamelijk om te zorgen dat je de juiste type output geeft. Dit zijn dus *NIET* alle tests, die komen er bij het graden nog bij.\n",
    "\n",
    "## Voor het inleveren!\n",
    "\n",
    "* Pas niet de cellen aan, vooral niet die je niet kunt editen. Copieer ook geen cellen. Dit levert problemen op bij nakijken. Je mag wel cellen toevoegen (als kladblaadje).\n",
    "* Twijfel je of je per ongeluk iets hebt gewijzigd, kopieer dan bij inleveren je antwoorden naar een nieuw bestand, zodat het niet fout kan gaan.\n",
    "\n",
    "* Zorg dat de code goed runt van boven naar beneden, verifieer dat door boven in Kernel -> Restart & Run All uit te voeren"
   ]
  },
  {
   "cell_type": "code",
   "execution_count": 16,
   "id": "dcaf3b1e",
   "metadata": {
    "deletable": false,
    "editable": false,
    "nbgrader": {
     "cell_type": "code",
     "checksum": "5ca727c427648d33bfd036e1c9e3342f",
     "grade": false,
     "grade_id": "imp",
     "locked": true,
     "schema_version": 3,
     "solution": false
    }
   },
   "outputs": [],
   "source": [
    "import numpy as np\n",
    "import pandas as pd\n",
    "import seaborn as sns\n",
    "import matplotlib.pyplot as plt\n",
    "\n",
    "import sklearn\n",
    "from scipy.stats import mode\n",
    "from sklearn import linear_model\n",
    "from sklearn.linear_model import LinearRegression\n",
    "from sklearn.preprocessing import PolynomialFeatures\n",
    "from sklearn import datasets\n",
    "# testing\n",
    "from nose.tools import assert_count_equal, assert_equal, assert_almost_equals\n",
    "from numpy.testing import *\n",
    "from pandas.testing import assert_frame_equal\n",
    "\n",
    "# Please do not remove this: \n",
    "np.random.seed(31415)"
   ]
  },
  {
   "cell_type": "markdown",
   "id": "697ec1a4",
   "metadata": {
    "deletable": false,
    "editable": false,
    "nbgrader": {
     "cell_type": "markdown",
     "checksum": "4da01d384efb3eac591e95c56e06c65f",
     "grade": false,
     "grade_id": "sig",
     "locked": true,
     "schema_version": 3,
     "solution": false
    }
   },
   "source": [
    "# 1 The sigmoid (2pt)\n",
    "\n",
    "Here is the sigmoid function $f(x)$ again:\n",
    "\n",
    "$$f(x)= \\frac{1}{1+e^x}.$$\n",
    "\n",
    "1. What is the range and the domain of $f(x)$? \n",
    "    * Put your answer in the markdown cell below. \n",
    "2. Create a dict `D` with keys `range(-10,10)` and as values the sigmoid of the key.\n",
    "3. Plot that function.\n",
    "    * Put your answers in the code cell below.\n",
    "\n",
    "**Hint:** think of `np.exp`."
   ]
  },
  {
   "cell_type": "markdown",
   "id": "682226f7",
   "metadata": {
    "deletable": false,
    "nbgrader": {
     "cell_type": "markdown",
     "checksum": "d6c57981561662ef28d8385e658b6c00",
     "grade": true,
     "grade_id": "siga",
     "locked": false,
     "points": 1,
     "schema_version": 3,
     "solution": true
    }
   },
   "source": [
    "domain: alle numerieke waarden,\n",
    "range: 0 tot 1"
   ]
  },
  {
   "cell_type": "code",
   "execution_count": 17,
   "id": "ac5ef5e7",
   "metadata": {
    "deletable": false,
    "nbgrader": {
     "cell_type": "code",
     "checksum": "14ad70b9889c2fcc829a26604a903785",
     "grade": true,
     "grade_id": "siga1",
     "locked": false,
     "points": 1,
     "schema_version": 3,
     "solution": true
    }
   },
   "outputs": [
    {
     "data": {
      "text/plain": [
       "[<matplotlib.lines.Line2D at 0x1bfc40b6910>]"
      ]
     },
     "execution_count": 17,
     "metadata": {},
     "output_type": "execute_result"
    },
    {
     "data": {
      "image/png": "[encoded data removed]",
      "text/plain": [
       "<Figure size 432x288 with 1 Axes>"
      ]
     },
     "metadata": {
      "needs_background": "light"
     },
     "output_type": "display_data"
    }
   ],
   "source": [
    "def sigmoid(x):\n",
    "    return 1/(1+2.718281828459045**x)\n",
    "\n",
    "\n",
    "D= dict()\n",
    "\n",
    "for i in range(-10, 11):\n",
    "    D[i] = sigmoid(i)\n",
    "\n",
    "\n",
    "\n",
    "\n",
    "Ddf=pd.Series(D)\n",
    "\n",
    "\n",
    "# Plot f(x) for x in range(-10,10)\n",
    "plt.plot(Ddf)"
   ]
  },
  {
   "cell_type": "markdown",
   "id": "ca0f6cb4",
   "metadata": {
    "deletable": false,
    "editable": false,
    "nbgrader": {
     "cell_type": "markdown",
     "checksum": "30470cc455fbe13105167a9afefc5311",
     "grade": false,
     "grade_id": "lr1",
     "locked": true,
     "schema_version": 3,
     "solution": false
    }
   },
   "source": [
    "# 2 Logistic regression 1 (4pt)\n",
    "\n",
    "Below we load  the penguin classification dataset, in which we want to learn to classify the `species`.\n",
    "\n",
    "\n",
    "1. How many classes are there in the dataset? (variable `classes`)\n",
    "2. How many instances are there in the dataset? (variable `instances`)\n",
    "3. If we would do logistic regression with only the numeric variables, how many parameters (those $\\theta$'s) will regression learn? Hint: write down the regression equation. (variable `parameters_numeric`)\n",
    "4. And how many if we use all variables in the dataset and one-hot encode the categorical ones (variable `parameters_all`).\n",
    "\n",
    "**Hint**: `p` is a pandas dataframe, and has all pandas functionality. E.g., `value_counts`. And you can easily select columns using method syntax, e.g, `p.species`."
   ]
  },
  {
   "cell_type": "code",
   "execution_count": 18,
   "id": "e0e7258b",
   "metadata": {
    "deletable": false,
    "editable": false,
    "nbgrader": {
     "cell_type": "code",
     "checksum": "5aeca66bee5dc10af2ad4bd9eb7a8239",
     "grade": false,
     "grade_id": "lr1c",
     "locked": true,
     "schema_version": 3,
     "solution": false
    }
   },
   "outputs": [
    {
     "name": "stdout",
     "output_type": "stream",
     "text": [
      "(344, 7)\n"
     ]
    },
    {
     "data": {
      "text/html": [
       "<div>\n",
       "<style scoped>\n",
       "    .dataframe tbody tr th:only-of-type {\n",
       "        vertical-align: middle;\n",
       "    }\n",
       "\n",
       "    .dataframe tbody tr th {\n",
       "        vertical-align: top;\n",
       "    }\n",
       "\n",
       "    .dataframe thead th {\n",
       "        text-align: right;\n",
       "    }\n",
       "</style>\n",
       "<table border=\"1\" class=\"dataframe\">\n",
       "  <thead>\n",
       "    <tr style=\"text-align: right;\">\n",
       "      <th></th>\n",
       "      <th>species</th>\n",
       "      <th>island</th>\n",
       "      <th>bill_length_mm</th>\n",
       "      <th>bill_depth_mm</th>\n",
       "      <th>flipper_length_mm</th>\n",
       "      <th>body_mass_g</th>\n",
       "      <th>sex</th>\n",
       "    </tr>\n",
       "  </thead>\n",
       "  <tbody>\n",
       "    <tr>\n",
       "      <th>0</th>\n",
       "      <td>Adelie</td>\n",
       "      <td>Torgersen</td>\n",
       "      <td>39.1</td>\n",
       "      <td>18.7</td>\n",
       "      <td>181.0</td>\n",
       "      <td>3750.0</td>\n",
       "      <td>Male</td>\n",
       "    </tr>\n",
       "    <tr>\n",
       "      <th>1</th>\n",
       "      <td>Adelie</td>\n",
       "      <td>Torgersen</td>\n",
       "      <td>39.5</td>\n",
       "      <td>17.4</td>\n",
       "      <td>186.0</td>\n",
       "      <td>3800.0</td>\n",
       "      <td>Female</td>\n",
       "    </tr>\n",
       "    <tr>\n",
       "      <th>2</th>\n",
       "      <td>Adelie</td>\n",
       "      <td>Torgersen</td>\n",
       "      <td>40.3</td>\n",
       "      <td>18.0</td>\n",
       "      <td>195.0</td>\n",
       "      <td>3250.0</td>\n",
       "      <td>Female</td>\n",
       "    </tr>\n",
       "    <tr>\n",
       "      <th>3</th>\n",
       "      <td>Adelie</td>\n",
       "      <td>Torgersen</td>\n",
       "      <td>NaN</td>\n",
       "      <td>NaN</td>\n",
       "      <td>NaN</td>\n",
       "      <td>NaN</td>\n",
       "      <td>NaN</td>\n",
       "    </tr>\n",
       "    <tr>\n",
       "      <th>4</th>\n",
       "      <td>Adelie</td>\n",
       "      <td>Torgersen</td>\n",
       "      <td>36.7</td>\n",
       "      <td>19.3</td>\n",
       "      <td>193.0</td>\n",
       "      <td>3450.0</td>\n",
       "      <td>Female</td>\n",
       "    </tr>\n",
       "  </tbody>\n",
       "</table>\n",
       "</div>"
      ],
      "text/plain": [
       "  species     island  bill_length_mm  bill_depth_mm  flipper_length_mm  \\\n",
       "0  Adelie  Torgersen            39.1           18.7              181.0   \n",
       "1  Adelie  Torgersen            39.5           17.4              186.0   \n",
       "2  Adelie  Torgersen            40.3           18.0              195.0   \n",
       "3  Adelie  Torgersen             NaN            NaN                NaN   \n",
       "4  Adelie  Torgersen            36.7           19.3              193.0   \n",
       "\n",
       "   body_mass_g     sex  \n",
       "0       3750.0    Male  \n",
       "1       3800.0  Female  \n",
       "2       3250.0  Female  \n",
       "3          NaN     NaN  \n",
       "4       3450.0  Female  "
      ]
     },
     "execution_count": 18,
     "metadata": {},
     "output_type": "execute_result"
    }
   ],
   "source": [
    "p=sns.load_dataset('penguins')\n",
    "print(p.shape)\n",
    "p.head()"
   ]
  },
  {
   "cell_type": "code",
   "execution_count": 19,
   "id": "cfa8d27b",
   "metadata": {
    "deletable": false,
    "nbgrader": {
     "cell_type": "code",
     "checksum": "46a86c30d57d64b7a4ce9721d3fb7142",
     "grade": false,
     "grade_id": "lr1a",
     "locked": false,
     "schema_version": 3,
     "solution": true
    }
   },
   "outputs": [
    {
     "name": "stdout",
     "output_type": "stream",
     "text": [
      "3\n",
      "344\n",
      "4\n",
      "6\n"
     ]
    }
   ],
   "source": [
    "classes=3 # change into your answer\n",
    "instances=344\n",
    "parameters_numeric=4\n",
    "parameters_all=6\n",
    "\n",
    "for v in [classes,instances,parameters_numeric,parameters_all]:\n",
    "    print(v)"
   ]
  },
  {
   "cell_type": "code",
   "execution_count": 20,
   "id": "0a4c71be",
   "metadata": {
    "deletable": false,
    "editable": false,
    "nbgrader": {
     "cell_type": "code",
     "checksum": "e86c0ad4e325716141e33014f7601ab6",
     "grade": true,
     "grade_id": "lr1t",
     "locked": true,
     "points": 4.01,
     "schema_version": 3,
     "solution": false
    }
   },
   "outputs": [],
   "source": [
    "try:\n",
    "    for v in [classes,instances,parameters_all,parameters_numeric]:\n",
    "        assert isinstance(v,int)\n",
    "except Exception as e: print(e)\n",
    " \n",
    "   "
   ]
  },
  {
   "cell_type": "markdown",
   "id": "405c54c2",
   "metadata": {
    "deletable": false,
    "editable": false,
    "nbgrader": {
     "cell_type": "markdown",
     "checksum": "614523b6e050217632476b001992e5ee",
     "grade": false,
     "grade_id": "lr2",
     "locked": true,
     "schema_version": 3,
     "solution": false
    }
   },
   "source": [
    "# 3 Data preparation (3pt)\n",
    "\n",
    "We look again at the penguins dataset. We call this dataframe `p`.\n",
    "\n",
    "1. Which variables contain missing values? (variable `Vmissing`) \n",
    "2. If needed, impute the numeric variables with the mean value and the categorical with the mode (the most often occuring value).  Give the imputation values for the variablles with missing values in a dict `impute_values` of the form `{'column_name': imputation value}`.\n",
    "3. For further processing simply remove the rows with missing values using `p.dropna(inplace=True)`.\n",
    "4. Now Z-normalize all numeric values in p. (Z-normalization is what the sklearn's StandardScalar does). You name  the new dataframe with only the numeric columns with their  normalized values  `pz`."
   ]
  },
  {
   "cell_type": "code",
   "execution_count": 21,
   "id": "bb5bb2ad",
   "metadata": {
    "deletable": false,
    "nbgrader": {
     "cell_type": "code",
     "checksum": "a67b8abb2665ecd761a5e532e4abb1e1",
     "grade": false,
     "grade_id": "lr2a",
     "locked": false,
     "schema_version": 3,
     "solution": true
    }
   },
   "outputs": [
    {
     "name": "stdout",
     "output_type": "stream",
     "text": [
      "{'body_mass_g', 'bill_length_mm', 'flipper_length_mm', 'bill_depth_mm', 'sex'}\n",
      "{'bill_length_mm': 43.92192982456142, 'bill_depth_mm': 17.151169590643278, 'flipper_length_mm': 200.91520467836258, 'body_mass_g': 4201.754385964912, 'sex': 'Male'}\n"
     ]
    }
   ],
   "source": [
    "Vmissing=set(['bill_length_mm', 'bill_depth_mm', 'flipper_length_mm', 'body_mass_g', 'sex']) # put the column names with missing data in this set.\n",
    "impute_values = dict()\n",
    "\n",
    "impute_values['bill_length_mm'] = p.bill_length_mm.mean()\n",
    "impute_values['bill_depth_mm'] = p.bill_depth_mm.mean()\n",
    "impute_values['flipper_length_mm'] = p.flipper_length_mm.mean()\n",
    "impute_values['body_mass_g'] = p.body_mass_g.mean()\n",
    "impute_values['sex'] = p.sex.mode()[0]\n",
    "\n",
    "print(Vmissing)\n",
    "print(impute_values)"
   ]
  },
  {
   "cell_type": "code",
   "execution_count": 22,
   "id": "986283a0",
   "metadata": {
    "deletable": false,
    "nbgrader": {
     "cell_type": "code",
     "checksum": "ce668e0419934632ccd71ccfefaebc95",
     "grade": false,
     "grade_id": "lr3a",
     "locked": false,
     "schema_version": 3,
     "solution": true
    }
   },
   "outputs": [
    {
     "data": {
      "text/html": [
       "<div>\n",
       "<style scoped>\n",
       "    .dataframe tbody tr th:only-of-type {\n",
       "        vertical-align: middle;\n",
       "    }\n",
       "\n",
       "    .dataframe tbody tr th {\n",
       "        vertical-align: top;\n",
       "    }\n",
       "\n",
       "    .dataframe thead th {\n",
       "        text-align: right;\n",
       "    }\n",
       "</style>\n",
       "<table border=\"1\" class=\"dataframe\">\n",
       "  <thead>\n",
       "    <tr style=\"text-align: right;\">\n",
       "      <th></th>\n",
       "      <th>bill_depth_mm</th>\n",
       "      <th>bill_length_mm</th>\n",
       "      <th>body_mass_g</th>\n",
       "      <th>flipper_length_mm</th>\n",
       "    </tr>\n",
       "  </thead>\n",
       "  <tbody>\n",
       "    <tr>\n",
       "      <th>0</th>\n",
       "      <td>18.7</td>\n",
       "      <td>39.1</td>\n",
       "      <td>3750.0</td>\n",
       "      <td>181.0</td>\n",
       "    </tr>\n",
       "    <tr>\n",
       "      <th>1</th>\n",
       "      <td>17.4</td>\n",
       "      <td>39.5</td>\n",
       "      <td>3800.0</td>\n",
       "      <td>186.0</td>\n",
       "    </tr>\n",
       "    <tr>\n",
       "      <th>2</th>\n",
       "      <td>18.0</td>\n",
       "      <td>40.3</td>\n",
       "      <td>3250.0</td>\n",
       "      <td>195.0</td>\n",
       "    </tr>\n",
       "    <tr>\n",
       "      <th>4</th>\n",
       "      <td>19.3</td>\n",
       "      <td>36.7</td>\n",
       "      <td>3450.0</td>\n",
       "      <td>193.0</td>\n",
       "    </tr>\n",
       "    <tr>\n",
       "      <th>5</th>\n",
       "      <td>20.6</td>\n",
       "      <td>39.3</td>\n",
       "      <td>3650.0</td>\n",
       "      <td>190.0</td>\n",
       "    </tr>\n",
       "  </tbody>\n",
       "</table>\n",
       "</div>"
      ],
      "text/plain": [
       "   bill_depth_mm  bill_length_mm  body_mass_g  flipper_length_mm\n",
       "0           18.7            39.1       3750.0              181.0\n",
       "1           17.4            39.5       3800.0              186.0\n",
       "2           18.0            40.3       3250.0              195.0\n",
       "4           19.3            36.7       3450.0              193.0\n",
       "5           20.6            39.3       3650.0              190.0"
      ]
     },
     "execution_count": 22,
     "metadata": {},
     "output_type": "execute_result"
    }
   ],
   "source": [
    "# keep this\n",
    "p.dropna(inplace=True)  # remove all rows with at least one missing value\n",
    "\n",
    "pz=p[['bill_depth_mm', 'bill_length_mm',  'body_mass_g', 'flipper_length_mm']].copy()  \n",
    "# now further work on pz to give your solution. Keep these columns in this order\n",
    "# from sklearn.preprocessing import StandardScaler\n",
    "# scaler = StandardScaler()\n",
    "# pz = scaler.fit_transform(pz)\n",
    "\n",
    "#WRITE YOUR CODE HERE\n",
    "pz.head()\n"
   ]
  },
  {
   "cell_type": "code",
   "execution_count": 23,
   "id": "8e2ffa7e",
   "metadata": {
    "deletable": false,
    "editable": false,
    "nbgrader": {
     "cell_type": "code",
     "checksum": "29f6fb9d3ed00bd864ab5880a81339f4",
     "grade": true,
     "grade_id": "lr2t",
     "locked": true,
     "points": 3.01,
     "schema_version": 3,
     "solution": false
    }
   },
   "outputs": [],
   "source": [
    "try:\n",
    "    assert isinstance(Vmissing,set)\n",
    "    assert Vmissing.issubset(set(p.columns))\n",
    "    assert isinstance(impute_values,dict)\n",
    "    assert pz.shape==(333, 4)\n",
    "    assert_array_equal(list(pz.columns), ['bill_depth_mm', 'bill_length_mm',  'body_mass_g', 'flipper_length_mm'])\n",
    "except Exception as e: print(e)\n"
   ]
  },
  {
   "cell_type": "markdown",
   "id": "4aae1a6d",
   "metadata": {
    "deletable": false,
    "editable": false,
    "nbgrader": {
     "cell_type": "markdown",
     "checksum": "a0705fd21d552e1acb4c8ef7cfc2064a",
     "grade": false,
     "grade_id": "ml1",
     "locked": true,
     "schema_version": 3,
     "solution": false
    }
   },
   "source": [
    "# 4 Decision trees (4pt)\n",
    "\n",
    "Now we will predict the species in the penguin dataset.\n",
    "\n",
    "1. First run the cell below to make the X and y sets.\n",
    "2. Split X and y into train and test sets using a 2/3, 1/3 split using `train_test_split` with `random_state=0`.\n",
    "3. Then use the `DecisionTreeClassifier(random_state=0)` to train a classifier, and compute its accuracy in variable `accuracy_testset`.\n",
    "4. Then create the report with all precision, recall and F1  values for each class\n",
    "5. Finally make a confusion matrix and print it nicely with `sns.heatmap`."
   ]
  },
  {
   "cell_type": "code",
   "execution_count": 24,
   "id": "f0c69de8",
   "metadata": {
    "deletable": false,
    "editable": false,
    "nbgrader": {
     "cell_type": "code",
     "checksum": "b056b6bb4087e9fac7a47c9fbab871e1",
     "grade": false,
     "grade_id": "ml1inp",
     "locked": true,
     "schema_version": 3,
     "solution": false
    }
   },
   "outputs": [
    {
     "data": {
      "text/plain": [
       "((333, 4), (333,), 0, 0)"
      ]
     },
     "execution_count": 24,
     "metadata": {},
     "output_type": "execute_result"
    }
   ],
   "source": [
    "X= pz.values\n",
    "p.dropna(inplace=True) \n",
    "y= p.species.astype('category').cat.codes.values  # here we just replace the species names with integers\n",
    "# check: X and y have the same number of rows, and both no missing values\n",
    "\n",
    "X.shape,y.shape, np.isnan(X).sum(), np.isnan(y).sum()"
   ]
  },
  {
   "cell_type": "code",
   "execution_count": 25,
   "id": "bcaba871",
   "metadata": {
    "deletable": false,
    "nbgrader": {
     "cell_type": "code",
     "checksum": "9125caa2112a7fd5ca60a84cc53b71b9",
     "grade": false,
     "grade_id": "ml1a",
     "locked": false,
     "schema_version": 3,
     "solution": true
    }
   },
   "outputs": [
    {
     "data": {
      "text/plain": [
       "((223, 4), (110, 4), (223,), (110,))"
      ]
     },
     "execution_count": 25,
     "metadata": {},
     "output_type": "execute_result"
    }
   ],
   "source": [
    "from sklearn.model_selection import train_test_split\n",
    "\n",
    "Xtrain, Xtest, ytrain, ytest= train_test_split(X, y, test_size=0.33, random_state=0) # change to your solution\n",
    "\n",
    "Xtrain.shape, Xtest.shape, ytrain.shape, ytest.shape "
   ]
  },
  {
   "cell_type": "code",
   "execution_count": 26,
   "id": "e3c0c966",
   "metadata": {
    "deletable": false,
    "nbgrader": {
     "cell_type": "code",
     "checksum": "973ee3cfb736d53996b57ca892973b37",
     "grade": false,
     "grade_id": "ml1b",
     "locked": false,
     "schema_version": 3,
     "solution": true
    }
   },
   "outputs": [
    {
     "data": {
      "text/plain": [
       "0.9727272727272728"
      ]
     },
     "execution_count": 26,
     "metadata": {},
     "output_type": "execute_result"
    }
   ],
   "source": [
    "from sklearn.tree import DecisionTreeClassifier\n",
    "\n",
    "tree = DecisionTreeClassifier(random_state=0)\n",
    "tree.fit(Xtrain, ytrain)\n",
    "\n",
    "accuracy_testset=tree.score(Xtest, ytest) # change to your (hopefully better) solution\n",
    "accuracy_testset "
   ]
  },
  {
   "cell_type": "code",
   "execution_count": 27,
   "id": "fd7e014b",
   "metadata": {
    "deletable": false,
    "editable": false,
    "nbgrader": {
     "cell_type": "code",
     "checksum": "7c98a77835399880755dfa714e58b784",
     "grade": true,
     "grade_id": "ml1t",
     "locked": true,
     "points": 2.01,
     "schema_version": 3,
     "solution": false
    }
   },
   "outputs": [],
   "source": [
    "try: \n",
    "    assert 0<= accuracy_testset <= 1\n",
    "except Exception as e: print(e)\n",
    "    "
   ]
  },
  {
   "cell_type": "markdown",
   "id": "344a2d5b",
   "metadata": {},
   "source": [
    "# the report with all precision, recall and F1  values for each class\n",
    "\n",
    "Make it in the cell below"
   ]
  },
  {
   "cell_type": "code",
   "execution_count": 28,
   "id": "ad5acdf4",
   "metadata": {
    "deletable": false,
    "nbgrader": {
     "cell_type": "code",
     "checksum": "8c3f634d46fe05facbaa1c209b36bde2",
     "grade": true,
     "grade_id": "ml1c",
     "locked": false,
     "points": 1,
     "schema_version": 3,
     "solution": true
    }
   },
   "outputs": [
    {
     "name": "stdout",
     "output_type": "stream",
     "text": [
      "              precision    recall  f1-score   support\n",
      "\n",
      "      Adelie       0.95      1.00      0.97        53\n",
      "   Chinstrap       1.00      0.90      0.95        20\n",
      "      Gentoo       1.00      0.97      0.99        37\n",
      "\n",
      "    accuracy                           0.97       110\n",
      "   macro avg       0.98      0.96      0.97       110\n",
      "weighted avg       0.97      0.97      0.97       110\n",
      "\n"
     ]
    }
   ],
   "source": [
    "from sklearn.metrics import classification_report\n",
    "pred_tree = tree.predict(Xtest)\n",
    "print(classification_report(ytest, pred_tree, target_names=[\"Adelie\", \"Chinstrap\", \"Gentoo\"]))"
   ]
  },
  {
   "cell_type": "markdown",
   "id": "434ef1e4",
   "metadata": {},
   "source": [
    "# The confusion matrix nicely  printed with `sns.heatmap`\n",
    "\n",
    "* in thecell below"
   ]
  },
  {
   "cell_type": "code",
   "execution_count": 29,
   "id": "38b8679b",
   "metadata": {
    "deletable": false,
    "nbgrader": {
     "cell_type": "code",
     "checksum": "7103b3314b6b03f3d00e3d6c18203051",
     "grade": true,
     "grade_id": "ml1d",
     "locked": false,
     "points": 1,
     "schema_version": 3,
     "solution": true
    }
   },
   "outputs": [
    {
     "name": "stdout",
     "output_type": "stream",
     "text": [
      "[[53  0  0]\n",
      " [ 2 18  0]\n",
      " [ 1  0 36]]\n"
     ]
    },
    {
     "data": {
      "text/plain": [
       "<AxesSubplot:>"
      ]
     },
     "execution_count": 29,
     "metadata": {},
     "output_type": "execute_result"
    },
    {
     "data": {
      "image/png": "[encoded data removed]",
      "text/plain": [
       "<Figure size 432x288 with 2 Axes>"
      ]
     },
     "metadata": {
      "needs_background": "light"
     },
     "output_type": "display_data"
    }
   ],
   "source": [
    "from sklearn.metrics import confusion_matrix\n",
    "print(confusion_matrix(ytest, pred_tree))\n",
    "\n",
    "sns.heatmap(confusion_matrix(ytest, pred_tree))"
   ]
  },
  {
   "cell_type": "code",
   "execution_count": null,
   "id": "a509a8e3",
   "metadata": {},
   "outputs": [],
   "source": []
  }
 ],
 "metadata": {
  "kernelspec": {
   "display_name": "Python 3 (ipykernel)",
   "language": "python",
   "name": "python3"
  },
  "language_info": {
   "codemirror_mode": {
    "name": "ipython",
    "version": 3
   },
   "file_extension": ".py",
   "mimetype": "text/x-python",
   "name": "python",
   "nbconvert_exporter": "python",
   "pygments_lexer": "ipython3",
   "version": "3.9.12"
  },
  "toc": {
   "nav_menu": {},
   "number_sections": false,
   "sideBar": true,
   "skip_h1_title": false,
   "title_cell": "Table of Contents",
   "title_sidebar": "Contents",
   "toc_cell": false,
   "toc_position": {},
   "toc_section_display": true,
   "toc_window_display": false
  }
 },
 "nbformat": 4,
 "nbformat_minor": 5
}
