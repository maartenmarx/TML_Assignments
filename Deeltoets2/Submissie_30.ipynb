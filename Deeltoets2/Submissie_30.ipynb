{
 "cells": [
  {
   "cell_type": "markdown",
   "id": "1dad2351",
   "metadata": {},
   "source": [
    "# Deeltoets2 Toegepaste Machine Learning\n",
    "**Bachelor Informatiekunde**\n",
    "\n",
    "## Tentameninformatie\n",
    "\n",
    "**Datum:** 2023\n",
    "**Tijd:** 2 uur  (+30 minuten extra tijd)\n",
    "\n",
    "\n",
    "**Toegestane hulpmiddelen:** Boek als PDF op computer, Kladpapier, handgeschreven spiekbrief (1 A4, 1 kant beschreven)\n",
    "\n",
    "## Huishoudelijke mededelingen\n",
    "* Je mag tot uiterlijk 30 minuten na de begintijd starten.\n",
    "* Jouw telefoon, jas en tas liggen in de kluisjes buiten de tentamenzaal.\n",
    "* De eerste 30 minuten en de laatste 15 minuten mag je de zaal niet verlaten. Daarbuiten kan je als je het tentamen af  en ingeleverd hebt de zaal verlaten.\n",
    "* De ondersteuning voorin de zaal kan controleren of jouw tentamen correct is ingeleverd.\n",
    "* Plaats jouw collegekaart of een geldig legitimatiebewijs op de hoek van de tafel. Een surveillant komt langs om deze te controleren.\n",
    "* Toiletbezoek is alleen mogelijk met toestemming van een surveillant.\n",
    "\n",
    "## Spiekbrief\n",
    "\n",
    "* Laat die liggen, die lever je in.\n",
    "\n",
    "## Punten\n",
    "\n",
    "* Elke vraag is 1 punt waard, tenzij er wat anders bijstaat.\n",
    "* Bij deelvragen krijg je in de regel een evenredig deel van de punten."
   ]
  },
  {
   "cell_type": "markdown",
   "id": "5b3fb968",
   "metadata": {},
   "source": [
    "## Notebook made by\n",
    "\n",
    "__Namen__:Anoniem",
    "\n",
    "__Emails__:Anoniem",
    "\n",
    "__Student id__:Anoniem"
   ]
  },
  {
   "cell_type": "markdown",
   "id": "38428116",
   "metadata": {},
   "source": [
    "## Toelichting\n",
    "\n",
    "* De meeste opgaven worden automatisch nagekeken. Bij vrijwel alle opdrachten staan er een paar tests onder de opdracht, dit is voornamelijk om te zorgen dat je de juiste type output geeft. Dit zijn dus *NIET* alle tests, die komen er bij het graden nog bij.\n",
    "\n",
    "## Voor het inleveren!\n",
    "\n",
    "* Pas niet de cellen aan, vooral niet die je niet kunt editen. Copieer ook geen cellen. Dit levert problemen op bij nakijken. Je mag wel cellen toevoegen (als kladblaadje).\n",
    "* Twijfel je of je per ongeluk iets hebt gewijzigd, kopieer dan bij inleveren je antwoorden naar een nieuw bestand, zodat het niet fout kan gaan.\n",
    "\n",
    "* Zorg dat de code goed runt van boven naar beneden, verifieer dat door boven in Kernel -> Restart & Run All uit te voeren"
   ]
  },
  {
   "cell_type": "code",
   "execution_count": 1,
   "id": "dcaf3b1e",
   "metadata": {
    "deletable": false,
    "editable": false,
    "nbgrader": {
     "cell_type": "code",
     "checksum": "5ca727c427648d33bfd036e1c9e3342f",
     "grade": false,
     "grade_id": "imp",
     "locked": true,
     "schema_version": 3,
     "solution": false
    }
   },
   "outputs": [],
   "source": [
    "import numpy as np\n",
    "import pandas as pd\n",
    "import seaborn as sns\n",
    "import matplotlib.pyplot as plt\n",
    "\n",
    "import sklearn\n",
    "from scipy.stats import mode\n",
    "from sklearn import linear_model\n",
    "from sklearn.linear_model import LinearRegression\n",
    "from sklearn.preprocessing import PolynomialFeatures\n",
    "from sklearn import datasets\n",
    "# testing\n",
    "from nose.tools import assert_count_equal, assert_equal, assert_almost_equals\n",
    "from numpy.testing import *\n",
    "from pandas.testing import assert_frame_equal\n",
    "\n",
    "# Please do not remove this: \n",
    "np.random.seed(31415)"
   ]
  },
  {
   "cell_type": "markdown",
   "id": "697ec1a4",
   "metadata": {
    "deletable": false,
    "editable": false,
    "nbgrader": {
     "cell_type": "markdown",
     "checksum": "4da01d384efb3eac591e95c56e06c65f",
     "grade": false,
     "grade_id": "sig",
     "locked": true,
     "schema_version": 3,
     "solution": false
    }
   },
   "source": [
    "# 1 The sigmoid (2pt)\n",
    "\n",
    "Here is the sigmoid function $f(x)$ again:\n",
    "\n",
    "$$f(x)= \\frac{1}{1+e^x}.$$\n",
    "\n",
    "1. What is the range and the domain of $f(x)$? \n",
    "    * Put your answer in the markdown cell below. \n",
    "2. Create a dict `D` with keys `range(-10,10)` and as values the sigmoid of the key.\n",
    "3. Plot that function.\n",
    "    * Put your answers in the code cell below.\n",
    "\n",
    "**Hint:** think of `np.exp`."
   ]
  },
  {
   "cell_type": "markdown",
   "id": "682226f7",
   "metadata": {
    "deletable": false,
    "nbgrader": {
     "cell_type": "markdown",
     "checksum": "d6c57981561662ef28d8385e658b6c00",
     "grade": true,
     "grade_id": "siga",
     "locked": false,
     "points": 1,
     "schema_version": 3,
     "solution": true
    }
   },
   "source": [
    "YOUR ANSWER HERE"
   ]
  },
  {
   "cell_type": "code",
   "execution_count": 2,
   "id": "ac5ef5e7",
   "metadata": {
    "deletable": false,
    "nbgrader": {
     "cell_type": "code",
     "checksum": "14ad70b9889c2fcc829a26604a903785",
     "grade": true,
     "grade_id": "siga1",
     "locked": false,
     "points": 1,
     "schema_version": 3,
     "solution": true
    }
   },
   "outputs": [
    {
     "name": "stderr",
     "output_type": "stream",
     "text": [
      "C:\\Users\\13798626\\AppData\\Local\\Temp\\ipykernel_3056\\3273360544.py:5: FutureWarning: The default dtype for empty Series will be 'object' instead of 'float64' in a future version. Specify a dtype explicitly to silence this warning.\n",
      "  Ddf=pd.Series(D)\n"
     ]
    }
   ],
   "source": [
    "D= dict()\n",
    "#WRITE YOUR CODE HERE\n",
    "\n",
    "\n",
    "Ddf=pd.Series(D)\n",
    "\n",
    "# Plot f(x) for x in range(-10,10)\n",
    "#WRITE YOUR CODE HERE"
   ]
  },
  {
   "cell_type": "markdown",
   "id": "ca0f6cb4",
   "metadata": {
    "deletable": false,
    "editable": false,
    "nbgrader": {
     "cell_type": "markdown",
     "checksum": "30470cc455fbe13105167a9afefc5311",
     "grade": false,
     "grade_id": "lr1",
     "locked": true,
     "schema_version": 3,
     "solution": false
    }
   },
   "source": [
    "# 2 Logistic regression 1 (4pt)\n",
    "\n",
    "Below we load  the penguin classification dataset, in which we want to learn to classify the `species`.\n",
    "\n",
    "\n",
    "1. How many classes are there in the dataset? (variable `classes`)\n",
    "2. How many instances are there in the dataset? (variable `instances`)\n",
    "3. If we would do logistic regression with only the numeric variables, how many parameters (those $\\theta$'s) will regression learn? Hint: write down the regression equation. (variable `parameters_numeric`)\n",
    "4. And how many if we use all variables in the dataset and one-hot encode the categorical ones (variable `parameters_all`).\n",
    "\n",
    "**Hint**: `p` is a pandas dataframe, and has all pandas functionality. E.g., `value_counts`. And you can easily select columns using method syntax, e.g, `p.species`."
   ]
  },
  {
   "cell_type": "code",
   "execution_count": 3,
   "id": "e0e7258b",
   "metadata": {
    "deletable": false,
    "editable": false,
    "nbgrader": {
     "cell_type": "code",
     "checksum": "5aeca66bee5dc10af2ad4bd9eb7a8239",
     "grade": false,
     "grade_id": "lr1c",
     "locked": true,
     "schema_version": 3,
     "solution": false
    }
   },
   "outputs": [
    {
     "name": "stdout",
     "output_type": "stream",
     "text": [
      "(344, 7)\n"
     ]
    },
    {
     "data": {
      "text/html": [
       "<div>\n",
       "<style scoped>\n",
       "    .dataframe tbody tr th:only-of-type {\n",
       "        vertical-align: middle;\n",
       "    }\n",
       "\n",
       "    .dataframe tbody tr th {\n",
       "        vertical-align: top;\n",
       "    }\n",
       "\n",
       "    .dataframe thead th {\n",
       "        text-align: right;\n",
       "    }\n",
       "</style>\n",
       "<table border=\"1\" class=\"dataframe\">\n",
       "  <thead>\n",
       "    <tr style=\"text-align: right;\">\n",
       "      <th></th>\n",
       "      <th>species</th>\n",
       "      <th>island</th>\n",
       "      <th>bill_length_mm</th>\n",
       "      <th>bill_depth_mm</th>\n",
       "      <th>flipper_length_mm</th>\n",
       "      <th>body_mass_g</th>\n",
       "      <th>sex</th>\n",
       "    </tr>\n",
       "  </thead>\n",
       "  <tbody>\n",
       "    <tr>\n",
       "      <th>0</th>\n",
       "      <td>Adelie</td>\n",
       "      <td>Torgersen</td>\n",
       "      <td>39.1</td>\n",
       "      <td>18.7</td>\n",
       "      <td>181.0</td>\n",
       "      <td>3750.0</td>\n",
       "      <td>Male</td>\n",
       "    </tr>\n",
       "    <tr>\n",
       "      <th>1</th>\n",
       "      <td>Adelie</td>\n",
       "      <td>Torgersen</td>\n",
       "      <td>39.5</td>\n",
       "      <td>17.4</td>\n",
       "      <td>186.0</td>\n",
       "      <td>3800.0</td>\n",
       "      <td>Female</td>\n",
       "    </tr>\n",
       "    <tr>\n",
       "      <th>2</th>\n",
       "      <td>Adelie</td>\n",
       "      <td>Torgersen</td>\n",
       "      <td>40.3</td>\n",
       "      <td>18.0</td>\n",
       "      <td>195.0</td>\n",
       "      <td>3250.0</td>\n",
       "      <td>Female</td>\n",
       "    </tr>\n",
       "    <tr>\n",
       "      <th>3</th>\n",
       "      <td>Adelie</td>\n",
       "      <td>Torgersen</td>\n",
       "      <td>NaN</td>\n",
       "      <td>NaN</td>\n",
       "      <td>NaN</td>\n",
       "      <td>NaN</td>\n",
       "      <td>NaN</td>\n",
       "    </tr>\n",
       "    <tr>\n",
       "      <th>4</th>\n",
       "      <td>Adelie</td>\n",
       "      <td>Torgersen</td>\n",
       "      <td>36.7</td>\n",
       "      <td>19.3</td>\n",
       "      <td>193.0</td>\n",
       "      <td>3450.0</td>\n",
       "      <td>Female</td>\n",
       "    </tr>\n",
       "  </tbody>\n",
       "</table>\n",
       "</div>"
      ],
      "text/plain": [
       "  species     island  bill_length_mm  bill_depth_mm  flipper_length_mm  \\\n",
       "0  Adelie  Torgersen            39.1           18.7              181.0   \n",
       "1  Adelie  Torgersen            39.5           17.4              186.0   \n",
       "2  Adelie  Torgersen            40.3           18.0              195.0   \n",
       "3  Adelie  Torgersen             NaN            NaN                NaN   \n",
       "4  Adelie  Torgersen            36.7           19.3              193.0   \n",
       "\n",
       "   body_mass_g     sex  \n",
       "0       3750.0    Male  \n",
       "1       3800.0  Female  \n",
       "2       3250.0  Female  \n",
       "3          NaN     NaN  \n",
       "4       3450.0  Female  "
      ]
     },
     "execution_count": 3,
     "metadata": {},
     "output_type": "execute_result"
    }
   ],
   "source": [
    "p=sns.load_dataset('penguins')\n",
    "print(p.shape)\n",
    "p.head()"
   ]
  },
  {
   "cell_type": "code",
   "execution_count": 4,
   "id": "cfa8d27b",
   "metadata": {
    "deletable": false,
    "nbgrader": {
     "cell_type": "code",
     "checksum": "46a86c30d57d64b7a4ce9721d3fb7142",
     "grade": false,
     "grade_id": "lr1a",
     "locked": false,
     "schema_version": 3,
     "solution": true
    },
    "scrolled": true
   },
   "outputs": [
    {
     "name": "stdout",
     "output_type": "stream",
     "text": [
      "3\n",
      "344\n",
      "6\n",
      "1\n"
     ]
    }
   ],
   "source": [
    "from sklearn.linear_model import LogisticRegression\n",
    "from sklearn.svm import LinearSVC\n",
    "\n",
    "classes=3 # change into your answer\n",
    "instances=344\n",
    "parameters_numeric=6\n",
    "parameters_all=1\n",
    "# LogisticRegression().fit(p['bill_depth_mm'])# #WRITE YOUR CODE HERE\n",
    "\n",
    "for v in [classes,instances,parameters_numeric,parameters_all]:\n",
    "    print(v)"
   ]
  },
  {
   "cell_type": "code",
   "execution_count": 5,
   "id": "0a4c71be",
   "metadata": {
    "deletable": false,
    "editable": false,
    "nbgrader": {
     "cell_type": "code",
     "checksum": "e86c0ad4e325716141e33014f7601ab6",
     "grade": true,
     "grade_id": "lr1t",
     "locked": true,
     "points": 4.01,
     "schema_version": 3,
     "solution": false
    }
   },
   "outputs": [],
   "source": [
    "try:\n",
    "    for v in [classes,instances,parameters_all,parameters_numeric]:\n",
    "        assert isinstance(v,int)\n",
    "except Exception as e: print(e)\n",
    " \n",
    "   "
   ]
  },
  {
   "cell_type": "markdown",
   "id": "405c54c2",
   "metadata": {
    "deletable": false,
    "editable": false,
    "nbgrader": {
     "cell_type": "markdown",
     "checksum": "614523b6e050217632476b001992e5ee",
     "grade": false,
     "grade_id": "lr2",
     "locked": true,
     "schema_version": 3,
     "solution": false
    }
   },
   "source": [
    "# 3 Data preparation (3pt)\n",
    "\n",
    "We look again at the penguins dataset. We call this dataframe `p`.\n",
    "\n",
    "1. Which variables contain missing values? (variable `Vmissing`) \n",
    "2. If needed, impute the numeric variables with the mean value and the categorical with the mode (the most often occuring value).  Give the imputation values for the variablles with missing values in a dict `impute_values` of the form `{'column_name': imputation value}`.\n",
    "3. For further processing simply remove the rows with missing values using `p.dropna(inplace=True)`.\n",
    "4. Now Z-normalize all numeric values in p. (Z-normalization is what the sklearn's StandardScalar does). You name  the new dataframe with only the numeric columns with their  normalized values  `pz`."
   ]
  },
  {
   "cell_type": "code",
   "execution_count": 6,
   "id": "bb5bb2ad",
   "metadata": {
    "deletable": false,
    "nbgrader": {
     "cell_type": "code",
     "checksum": "a67b8abb2665ecd761a5e532e4abb1e1",
     "grade": false,
     "grade_id": "lr2a",
     "locked": false,
     "schema_version": 3,
     "solution": true
    }
   },
   "outputs": [
    {
     "name": "stdout",
     "output_type": "stream",
     "text": [
      "{'sex', 'bill_depth_mm', 'flipper_length_mm', 'body_mass_g', 'bill_length_mm'}\n",
      "(0      18.7\n",
      "1      17.4\n",
      "2      18.0\n",
      "3      17.2\n",
      "4      19.3\n",
      "       ... \n",
      "339    17.2\n",
      "340    14.3\n",
      "341    15.7\n",
      "342    14.8\n",
      "343    16.1\n",
      "Name: bill_depth_mm, Length: 344, dtype: float64, 0      39.1\n",
      "1      39.5\n",
      "2      40.3\n",
      "3      44.0\n",
      "4      36.7\n",
      "       ... \n",
      "339    44.0\n",
      "340    46.8\n",
      "341    50.4\n",
      "342    45.2\n",
      "343    49.9\n",
      "Name: bill_length_mm, Length: 344, dtype: float64, 0      3750.0\n",
      "1      3800.0\n",
      "2      3250.0\n",
      "3      4207.1\n",
      "4      3450.0\n",
      "        ...  \n",
      "339    4207.1\n",
      "340    4850.0\n",
      "341    5750.0\n",
      "342    5200.0\n",
      "343    5400.0\n",
      "Name: body_mass_g, Length: 344, dtype: float64, 0       18.7\n",
      "1       17.4\n",
      "2       18.0\n",
      "3      201.0\n",
      "4       19.3\n",
      "       ...  \n",
      "339    201.0\n",
      "340     14.3\n",
      "341     15.7\n",
      "342     14.8\n",
      "343     16.1\n",
      "Name: bill_depth_mm, Length: 344, dtype: float64, 0        Male\n",
      "1      Female\n",
      "2      Female\n",
      "3         man\n",
      "4      Female\n",
      "        ...  \n",
      "339       man\n",
      "340    Female\n",
      "341      Male\n",
      "342    Female\n",
      "343      Male\n",
      "Name: sex, Length: 344, dtype: object)\n"
     ]
    }
   ],
   "source": [
    "Vmissing=set(x for x in p if x !='island' and x!= 'species') # put the column names with missing data in this set.\n",
    "# impute_values = dict()\n",
    "#WRITE YOUR CODE HERE\n",
    "\n",
    "#billdepth=17\n",
    "#bill_length=41,1\n",
    "#body_mass=3800\n",
    "#flipperlength= 190\n",
    "a=p['bill_depth_mm'].fillna(17.2)\n",
    "b=p['bill_length_mm'].fillna(44)\n",
    "c=p['body_mass_g'].fillna(4207.1)\n",
    "d=p['bill_depth_mm'].fillna(201)\n",
    "e=p['sex'].fillna('man')\n",
    "impute_values=a,b,c,d,e\n",
    "\n",
    "#body_mass=181\n",
    "# print(p['flipper_length_mm'].mean)\n",
    "print(Vmissing)\n",
    "print(impute_values)"
   ]
  },
  {
   "cell_type": "code",
   "execution_count": 7,
   "id": "986283a0",
   "metadata": {
    "deletable": false,
    "nbgrader": {
     "cell_type": "code",
     "checksum": "ce668e0419934632ccd71ccfefaebc95",
     "grade": false,
     "grade_id": "lr3a",
     "locked": false,
     "schema_version": 3,
     "solution": true
    }
   },
   "outputs": [
    {
     "data": {
      "text/html": [
       "<div>\n",
       "<style scoped>\n",
       "    .dataframe tbody tr th:only-of-type {\n",
       "        vertical-align: middle;\n",
       "    }\n",
       "\n",
       "    .dataframe tbody tr th {\n",
       "        vertical-align: top;\n",
       "    }\n",
       "\n",
       "    .dataframe thead th {\n",
       "        text-align: right;\n",
       "    }\n",
       "</style>\n",
       "<table border=\"1\" class=\"dataframe\">\n",
       "  <thead>\n",
       "    <tr style=\"text-align: right;\">\n",
       "      <th></th>\n",
       "      <th>bill_depth_mm</th>\n",
       "      <th>bill_length_mm</th>\n",
       "      <th>body_mass_g</th>\n",
       "      <th>flipper_length_mm</th>\n",
       "    </tr>\n",
       "  </thead>\n",
       "  <tbody>\n",
       "    <tr>\n",
       "      <th>0</th>\n",
       "      <td>18.7</td>\n",
       "      <td>39.1</td>\n",
       "      <td>3750.0</td>\n",
       "      <td>181.0</td>\n",
       "    </tr>\n",
       "    <tr>\n",
       "      <th>1</th>\n",
       "      <td>17.4</td>\n",
       "      <td>39.5</td>\n",
       "      <td>3800.0</td>\n",
       "      <td>186.0</td>\n",
       "    </tr>\n",
       "    <tr>\n",
       "      <th>2</th>\n",
       "      <td>18.0</td>\n",
       "      <td>40.3</td>\n",
       "      <td>3250.0</td>\n",
       "      <td>195.0</td>\n",
       "    </tr>\n",
       "    <tr>\n",
       "      <th>4</th>\n",
       "      <td>19.3</td>\n",
       "      <td>36.7</td>\n",
       "      <td>3450.0</td>\n",
       "      <td>193.0</td>\n",
       "    </tr>\n",
       "    <tr>\n",
       "      <th>5</th>\n",
       "      <td>20.6</td>\n",
       "      <td>39.3</td>\n",
       "      <td>3650.0</td>\n",
       "      <td>190.0</td>\n",
       "    </tr>\n",
       "  </tbody>\n",
       "</table>\n",
       "</div>"
      ],
      "text/plain": [
       "   bill_depth_mm  bill_length_mm  body_mass_g  flipper_length_mm\n",
       "0           18.7            39.1       3750.0              181.0\n",
       "1           17.4            39.5       3800.0              186.0\n",
       "2           18.0            40.3       3250.0              195.0\n",
       "4           19.3            36.7       3450.0              193.0\n",
       "5           20.6            39.3       3650.0              190.0"
      ]
     },
     "execution_count": 7,
     "metadata": {},
     "output_type": "execute_result"
    }
   ],
   "source": [
    "from sklearn.preprocessing import StandardScaler\n",
    "# keep this\n",
    "p.dropna(inplace=True)  # remove all rows with at least one missing value\n",
    "\n",
    "pz=p[['bill_depth_mm', 'bill_length_mm',  'body_mass_g', 'flipper_length_mm']].copy()  \n",
    "# now further work on pz to give your solution. Keep these columns in this order\n",
    "\n",
    "#WRITE YOUR CODE HERE\n",
    "scaler = StandardScaler()\n",
    "scaler.fit(pz)\n",
    "pz.head()"
   ]
  },
  {
   "cell_type": "code",
   "execution_count": 8,
   "id": "8e2ffa7e",
   "metadata": {
    "deletable": false,
    "editable": false,
    "nbgrader": {
     "cell_type": "code",
     "checksum": "29f6fb9d3ed00bd864ab5880a81339f4",
     "grade": true,
     "grade_id": "lr2t",
     "locked": true,
     "points": 3.01,
     "schema_version": 3,
     "solution": false
    }
   },
   "outputs": [
    {
     "name": "stdout",
     "output_type": "stream",
     "text": [
      "\n"
     ]
    }
   ],
   "source": [
    "try:\n",
    "    assert isinstance(Vmissing,set)\n",
    "    assert Vmissing.issubset(set(p.columns))\n",
    "    assert isinstance(impute_values,dict)\n",
    "    assert pz.shape==(333, 4)\n",
    "    assert_array_equal(list(pz.columns), ['bill_depth_mm', 'bill_length_mm',  'body_mass_g', 'flipper_length_mm'])\n",
    "except Exception as e: print(e)\n"
   ]
  },
  {
   "cell_type": "markdown",
   "id": "4aae1a6d",
   "metadata": {
    "deletable": false,
    "editable": false,
    "nbgrader": {
     "cell_type": "markdown",
     "checksum": "a0705fd21d552e1acb4c8ef7cfc2064a",
     "grade": false,
     "grade_id": "ml1",
     "locked": true,
     "schema_version": 3,
     "solution": false
    }
   },
   "source": [
    "# 4 Decision trees (4pt)\n",
    "\n",
    "Now we will predict the species in the penguin dataset.\n",
    "\n",
    "1. First run the cell below to make the X and y sets.\n",
    "2. Split X and y into train and test sets using a 2/3, 1/3 split using `train_test_split` with `random_state=0`.\n",
    "3. Then use the `DecisionTreeClassifier(random_state=0)` to train a classifier, and compute its accuracy in variable `accuracy_testset`.\n",
    "4. Then create the report with all precision, recall and F1  values for each class\n",
    "5. Finally make a confusion matrix and print it nicely with `sns.heatmap`."
   ]
  },
  {
   "cell_type": "code",
   "execution_count": 9,
   "id": "f0c69de8",
   "metadata": {
    "deletable": false,
    "editable": false,
    "nbgrader": {
     "cell_type": "code",
     "checksum": "b056b6bb4087e9fac7a47c9fbab871e1",
     "grade": false,
     "grade_id": "ml1inp",
     "locked": true,
     "schema_version": 3,
     "solution": false
    }
   },
   "outputs": [
    {
     "data": {
      "text/plain": [
       "((333, 4), (333,), 0, 0)"
      ]
     },
     "execution_count": 9,
     "metadata": {},
     "output_type": "execute_result"
    }
   ],
   "source": [
    "X= pz.values\n",
    "p.dropna(inplace=True) \n",
    "y= p.species.astype('category').cat.codes.values  # here we just replace the species names with integers\n",
    "# check: X and y have the same number of rows, and both no missing values\n",
    "\n",
    "X.shape,y.shape, np.isnan(X).sum(), np.isnan(y).sum()"
   ]
  },
  {
   "cell_type": "code",
   "execution_count": 10,
   "id": "bcaba871",
   "metadata": {
    "deletable": false,
    "nbgrader": {
     "cell_type": "code",
     "checksum": "9125caa2112a7fd5ca60a84cc53b71b9",
     "grade": false,
     "grade_id": "ml1a",
     "locked": false,
     "schema_version": 3,
     "solution": true
    }
   },
   "outputs": [
    {
     "data": {
      "text/plain": [
       "((110, 4), (222, 4), (110,), (222,))"
      ]
     },
     "execution_count": 10,
     "metadata": {},
     "output_type": "execute_result"
    }
   ],
   "source": [
    "from sklearn.model_selection import train_test_split\n",
    "\n",
    "Xtrain, Xtest, ytrain, ytest= train_test_split(X,y, test_size= 0.666, train_size=0.333, random_state=0)\n",
    "# #WRITE YOUR CODE HERE\n",
    "Xtrain.shape, Xtest.shape, ytrain.shape, ytest.shape "
   ]
  },
  {
   "cell_type": "code",
   "execution_count": 11,
   "id": "e3c0c966",
   "metadata": {
    "deletable": false,
    "nbgrader": {
     "cell_type": "code",
     "checksum": "973ee3cfb736d53996b57ca892973b37",
     "grade": false,
     "grade_id": "ml1b",
     "locked": false,
     "schema_version": 3,
     "solution": true
    }
   },
   "outputs": [
    {
     "name": "stdout",
     "output_type": "stream",
     "text": [
      "Accuracy on training set: 0.932\n"
     ]
    }
   ],
   "source": [
    "from sklearn.tree import DecisionTreeClassifier\n",
    "tree = DecisionTreeClassifier(random_state=0)\n",
    "tree.fit(Xtrain, ytrain)\n",
    "print(\"Accuracy on training set: {:.3f}\".format(tree.score(Xtest, ytest)))\n",
    "accuracy_testset=0.932\n",
    "# #WRITE YOUR CODE HERE\n",
    "# print(\"Accuracy on training set: {:.3f}\".format(tree.score(Xtrain, ytrain)))\n"
   ]
  },
  {
   "cell_type": "code",
   "execution_count": 12,
   "id": "fd7e014b",
   "metadata": {
    "deletable": false,
    "editable": false,
    "nbgrader": {
     "cell_type": "code",
     "checksum": "7c98a77835399880755dfa714e58b784",
     "grade": true,
     "grade_id": "ml1t",
     "locked": true,
     "points": 2.01,
     "schema_version": 3,
     "solution": false
    }
   },
   "outputs": [],
   "source": [
    "try: \n",
    "    assert 0<= accuracy_testset <= 1\n",
    "except Exception as e: print(e)\n",
    "    "
   ]
  },
  {
   "cell_type": "markdown",
   "id": "344a2d5b",
   "metadata": {},
   "source": [
    "# the report with all precision, recall and F1  values for each class\n",
    "\n",
    "Make it in the cell below"
   ]
  },
  {
   "cell_type": "code",
   "execution_count": 13,
   "id": "ad5acdf4",
   "metadata": {
    "deletable": false,
    "nbgrader": {
     "cell_type": "code",
     "checksum": "8c3f634d46fe05facbaa1c209b36bde2",
     "grade": true,
     "grade_id": "ml1c",
     "locked": false,
     "points": 1,
     "schema_version": 3,
     "solution": true
    }
   },
   "outputs": [
    {
     "name": "stdout",
     "output_type": "stream",
     "text": [
      "                precision    recall  f1-score   support\n",
      "\n",
      " bill_depth_mm       0.46      1.00      0.63       102\n",
      "bill_length_mm       0.00      0.00      0.00        41\n",
      "   body_mass_g       0.00      0.00      0.00        79\n",
      "\n",
      "      accuracy                           0.46       222\n",
      "     macro avg       0.15      0.33      0.21       222\n",
      "  weighted avg       0.21      0.46      0.29       222\n",
      "\n"
     ]
    },
    {
     "name": "stderr",
     "output_type": "stream",
     "text": [
      "C:\\ProgramData\\Anaconda3\\lib\\site-packages\\sklearn\\metrics\\_classification.py:1318: UndefinedMetricWarning: Precision and F-score are ill-defined and being set to 0.0 in labels with no predicted samples. Use `zero_division` parameter to control this behavior.\n",
      "  _warn_prf(average, modifier, msg_start, len(result))\n",
      "C:\\ProgramData\\Anaconda3\\lib\\site-packages\\sklearn\\metrics\\_classification.py:1318: UndefinedMetricWarning: Precision and F-score are ill-defined and being set to 0.0 in labels with no predicted samples. Use `zero_division` parameter to control this behavior.\n",
      "  _warn_prf(average, modifier, msg_start, len(result))\n",
      "C:\\ProgramData\\Anaconda3\\lib\\site-packages\\sklearn\\metrics\\_classification.py:1318: UndefinedMetricWarning: Precision and F-score are ill-defined and being set to 0.0 in labels with no predicted samples. Use `zero_division` parameter to control this behavior.\n",
      "  _warn_prf(average, modifier, msg_start, len(result))\n"
     ]
    }
   ],
   "source": [
    "from sklearn.dummy import DummyClassifier\n",
    "from sklearn.metrics import classification_report\n",
    "from sklearn.metrics import f1_score\n",
    "dummy_majority = DummyClassifier(strategy='most_frequent').fit(Xtrain, ytrain)\n",
    "pred_most_frequent = dummy_majority.predict(Xtest)\n",
    " \n",
    "\n",
    "# print(\"f1 score most frequent: {:.2f}\".format(\n",
    "#  f1_score(y_test, pred_most_frequent)))\n",
    "\n",
    "\n",
    "a=print(classification_report(ytest, pred_most_frequent,\n",
    "          target_names=[ 'bill_depth_mm', 'bill_length_mm',  'body_mass_g']))\n"
   ]
  },
  {
   "cell_type": "markdown",
   "id": "434ef1e4",
   "metadata": {},
   "source": [
    "# The confusion matrix nicely  printed with `sns.heatmap`\n",
    "\n",
    "* in thecell below"
   ]
  },
  {
   "cell_type": "code",
   "execution_count": 14,
   "id": "38b8679b",
   "metadata": {
    "deletable": false,
    "nbgrader": {
     "cell_type": "code",
     "checksum": "7103b3314b6b03f3d00e3d6c18203051",
     "grade": true,
     "grade_id": "ml1d",
     "locked": false,
     "points": 1,
     "schema_version": 3,
     "solution": true
    }
   },
   "outputs": [
    {
     "ename": "ValueError",
     "evalue": "Must pass 2-d input. shape=()",
     "output_type": "error",
     "traceback": [
      "\u001b[1;31m---------------------------------------------------------------------------\u001b[0m",
      "\u001b[1;31mValueError\u001b[0m                                Traceback (most recent call last)",
      "Input \u001b[1;32mIn [14]\u001b[0m, in \u001b[0;36m<cell line: 1>\u001b[1;34m()\u001b[0m\n\u001b[1;32m----> 1\u001b[0m \u001b[43msns\u001b[49m\u001b[38;5;241;43m.\u001b[39;49m\u001b[43mheatmap\u001b[49m\u001b[43m(\u001b[49m\u001b[43ma\u001b[49m\u001b[43m)\u001b[49m\n",
      "File \u001b[1;32mC:\\ProgramData\\Anaconda3\\lib\\site-packages\\seaborn\\_decorators.py:46\u001b[0m, in \u001b[0;36m_deprecate_positional_args.<locals>.inner_f\u001b[1;34m(*args, **kwargs)\u001b[0m\n\u001b[0;32m     36\u001b[0m     warnings\u001b[38;5;241m.\u001b[39mwarn(\n\u001b[0;32m     37\u001b[0m         \u001b[38;5;124m\"\u001b[39m\u001b[38;5;124mPass the following variable\u001b[39m\u001b[38;5;132;01m{}\u001b[39;00m\u001b[38;5;124m as \u001b[39m\u001b[38;5;132;01m{}\u001b[39;00m\u001b[38;5;124mkeyword arg\u001b[39m\u001b[38;5;132;01m{}\u001b[39;00m\u001b[38;5;124m: \u001b[39m\u001b[38;5;132;01m{}\u001b[39;00m\u001b[38;5;124m. \u001b[39m\u001b[38;5;124m\"\u001b[39m\n\u001b[0;32m     38\u001b[0m         \u001b[38;5;124m\"\u001b[39m\u001b[38;5;124mFrom version 0.12, the only valid positional argument \u001b[39m\u001b[38;5;124m\"\u001b[39m\n\u001b[1;32m   (...)\u001b[0m\n\u001b[0;32m     43\u001b[0m         \u001b[38;5;167;01mFutureWarning\u001b[39;00m\n\u001b[0;32m     44\u001b[0m     )\n\u001b[0;32m     45\u001b[0m kwargs\u001b[38;5;241m.\u001b[39mupdate({k: arg \u001b[38;5;28;01mfor\u001b[39;00m k, arg \u001b[38;5;129;01min\u001b[39;00m \u001b[38;5;28mzip\u001b[39m(sig\u001b[38;5;241m.\u001b[39mparameters, args)})\n\u001b[1;32m---> 46\u001b[0m \u001b[38;5;28;01mreturn\u001b[39;00m f(\u001b[38;5;241m*\u001b[39m\u001b[38;5;241m*\u001b[39mkwargs)\n",
      "File \u001b[1;32mC:\\ProgramData\\Anaconda3\\lib\\site-packages\\seaborn\\matrix.py:540\u001b[0m, in \u001b[0;36mheatmap\u001b[1;34m(data, vmin, vmax, cmap, center, robust, annot, fmt, annot_kws, linewidths, linecolor, cbar, cbar_kws, cbar_ax, square, xticklabels, yticklabels, mask, ax, **kwargs)\u001b[0m\n\u001b[0;32m    362\u001b[0m \u001b[38;5;124;03m\"\"\"Plot rectangular data as a color-encoded matrix.\u001b[39;00m\n\u001b[0;32m    363\u001b[0m \n\u001b[0;32m    364\u001b[0m \u001b[38;5;124;03mThis is an Axes-level function and will draw the heatmap into the\u001b[39;00m\n\u001b[1;32m   (...)\u001b[0m\n\u001b[0;32m    537\u001b[0m \u001b[38;5;124;03m    ...     ax = sns.heatmap(corr, mask=mask, vmax=.3, square=True)\u001b[39;00m\n\u001b[0;32m    538\u001b[0m \u001b[38;5;124;03m\"\"\"\u001b[39;00m\n\u001b[0;32m    539\u001b[0m \u001b[38;5;66;03m# Initialize the plotter object\u001b[39;00m\n\u001b[1;32m--> 540\u001b[0m plotter \u001b[38;5;241m=\u001b[39m \u001b[43m_HeatMapper\u001b[49m\u001b[43m(\u001b[49m\u001b[43mdata\u001b[49m\u001b[43m,\u001b[49m\u001b[43m \u001b[49m\u001b[43mvmin\u001b[49m\u001b[43m,\u001b[49m\u001b[43m \u001b[49m\u001b[43mvmax\u001b[49m\u001b[43m,\u001b[49m\u001b[43m \u001b[49m\u001b[43mcmap\u001b[49m\u001b[43m,\u001b[49m\u001b[43m \u001b[49m\u001b[43mcenter\u001b[49m\u001b[43m,\u001b[49m\u001b[43m \u001b[49m\u001b[43mrobust\u001b[49m\u001b[43m,\u001b[49m\u001b[43m \u001b[49m\u001b[43mannot\u001b[49m\u001b[43m,\u001b[49m\u001b[43m \u001b[49m\u001b[43mfmt\u001b[49m\u001b[43m,\u001b[49m\n\u001b[0;32m    541\u001b[0m \u001b[43m                      \u001b[49m\u001b[43mannot_kws\u001b[49m\u001b[43m,\u001b[49m\u001b[43m \u001b[49m\u001b[43mcbar\u001b[49m\u001b[43m,\u001b[49m\u001b[43m \u001b[49m\u001b[43mcbar_kws\u001b[49m\u001b[43m,\u001b[49m\u001b[43m \u001b[49m\u001b[43mxticklabels\u001b[49m\u001b[43m,\u001b[49m\n\u001b[0;32m    542\u001b[0m \u001b[43m                      \u001b[49m\u001b[43myticklabels\u001b[49m\u001b[43m,\u001b[49m\u001b[43m \u001b[49m\u001b[43mmask\u001b[49m\u001b[43m)\u001b[49m\n\u001b[0;32m    544\u001b[0m \u001b[38;5;66;03m# Add the pcolormesh kwargs here\u001b[39;00m\n\u001b[0;32m    545\u001b[0m kwargs[\u001b[38;5;124m\"\u001b[39m\u001b[38;5;124mlinewidths\u001b[39m\u001b[38;5;124m\"\u001b[39m] \u001b[38;5;241m=\u001b[39m linewidths\n",
      "File \u001b[1;32mC:\\ProgramData\\Anaconda3\\lib\\site-packages\\seaborn\\matrix.py:106\u001b[0m, in \u001b[0;36m_HeatMapper.__init__\u001b[1;34m(self, data, vmin, vmax, cmap, center, robust, annot, fmt, annot_kws, cbar, cbar_kws, xticklabels, yticklabels, mask)\u001b[0m\n\u001b[0;32m    104\u001b[0m \u001b[38;5;28;01melse\u001b[39;00m:\n\u001b[0;32m    105\u001b[0m     plot_data \u001b[38;5;241m=\u001b[39m np\u001b[38;5;241m.\u001b[39masarray(data)\n\u001b[1;32m--> 106\u001b[0m     data \u001b[38;5;241m=\u001b[39m \u001b[43mpd\u001b[49m\u001b[38;5;241;43m.\u001b[39;49m\u001b[43mDataFrame\u001b[49m\u001b[43m(\u001b[49m\u001b[43mplot_data\u001b[49m\u001b[43m)\u001b[49m\n\u001b[0;32m    108\u001b[0m \u001b[38;5;66;03m# Validate the mask and convet to DataFrame\u001b[39;00m\n\u001b[0;32m    109\u001b[0m mask \u001b[38;5;241m=\u001b[39m _matrix_mask(data, mask)\n",
      "File \u001b[1;32mC:\\ProgramData\\Anaconda3\\lib\\site-packages\\pandas\\core\\frame.py:694\u001b[0m, in \u001b[0;36mDataFrame.__init__\u001b[1;34m(self, data, index, columns, dtype, copy)\u001b[0m\n\u001b[0;32m    684\u001b[0m         mgr \u001b[38;5;241m=\u001b[39m dict_to_mgr(\n\u001b[0;32m    685\u001b[0m             \u001b[38;5;66;03m# error: Item \"ndarray\" of \"Union[ndarray, Series, Index]\" has no\u001b[39;00m\n\u001b[0;32m    686\u001b[0m             \u001b[38;5;66;03m# attribute \"name\"\u001b[39;00m\n\u001b[1;32m   (...)\u001b[0m\n\u001b[0;32m    691\u001b[0m             typ\u001b[38;5;241m=\u001b[39mmanager,\n\u001b[0;32m    692\u001b[0m         )\n\u001b[0;32m    693\u001b[0m     \u001b[38;5;28;01melse\u001b[39;00m:\n\u001b[1;32m--> 694\u001b[0m         mgr \u001b[38;5;241m=\u001b[39m \u001b[43mndarray_to_mgr\u001b[49m\u001b[43m(\u001b[49m\n\u001b[0;32m    695\u001b[0m \u001b[43m            \u001b[49m\u001b[43mdata\u001b[49m\u001b[43m,\u001b[49m\n\u001b[0;32m    696\u001b[0m \u001b[43m            \u001b[49m\u001b[43mindex\u001b[49m\u001b[43m,\u001b[49m\n\u001b[0;32m    697\u001b[0m \u001b[43m            \u001b[49m\u001b[43mcolumns\u001b[49m\u001b[43m,\u001b[49m\n\u001b[0;32m    698\u001b[0m \u001b[43m            \u001b[49m\u001b[43mdtype\u001b[49m\u001b[38;5;241;43m=\u001b[39;49m\u001b[43mdtype\u001b[49m\u001b[43m,\u001b[49m\n\u001b[0;32m    699\u001b[0m \u001b[43m            \u001b[49m\u001b[43mcopy\u001b[49m\u001b[38;5;241;43m=\u001b[39;49m\u001b[43mcopy\u001b[49m\u001b[43m,\u001b[49m\n\u001b[0;32m    700\u001b[0m \u001b[43m            \u001b[49m\u001b[43mtyp\u001b[49m\u001b[38;5;241;43m=\u001b[39;49m\u001b[43mmanager\u001b[49m\u001b[43m,\u001b[49m\n\u001b[0;32m    701\u001b[0m \u001b[43m        \u001b[49m\u001b[43m)\u001b[49m\n\u001b[0;32m    703\u001b[0m \u001b[38;5;66;03m# For data is list-like, or Iterable (will consume into list)\u001b[39;00m\n\u001b[0;32m    704\u001b[0m \u001b[38;5;28;01melif\u001b[39;00m is_list_like(data):\n",
      "File \u001b[1;32mC:\\ProgramData\\Anaconda3\\lib\\site-packages\\pandas\\core\\internals\\construction.py:331\u001b[0m, in \u001b[0;36mndarray_to_mgr\u001b[1;34m(values, index, columns, dtype, copy, typ)\u001b[0m\n\u001b[0;32m    326\u001b[0m         values \u001b[38;5;241m=\u001b[39m values\u001b[38;5;241m.\u001b[39mreshape(\u001b[38;5;241m-\u001b[39m\u001b[38;5;241m1\u001b[39m, \u001b[38;5;241m1\u001b[39m)\n\u001b[0;32m    328\u001b[0m \u001b[38;5;28;01melse\u001b[39;00m:\n\u001b[0;32m    329\u001b[0m     \u001b[38;5;66;03m# by definition an array here\u001b[39;00m\n\u001b[0;32m    330\u001b[0m     \u001b[38;5;66;03m# the dtypes will be coerced to a single dtype\u001b[39;00m\n\u001b[1;32m--> 331\u001b[0m     values \u001b[38;5;241m=\u001b[39m \u001b[43m_prep_ndarray\u001b[49m\u001b[43m(\u001b[49m\u001b[43mvalues\u001b[49m\u001b[43m,\u001b[49m\u001b[43m \u001b[49m\u001b[43mcopy\u001b[49m\u001b[38;5;241;43m=\u001b[39;49m\u001b[43mcopy_on_sanitize\u001b[49m\u001b[43m)\u001b[49m\n\u001b[0;32m    333\u001b[0m \u001b[38;5;28;01mif\u001b[39;00m dtype \u001b[38;5;129;01mis\u001b[39;00m \u001b[38;5;129;01mnot\u001b[39;00m \u001b[38;5;28;01mNone\u001b[39;00m \u001b[38;5;129;01mand\u001b[39;00m \u001b[38;5;129;01mnot\u001b[39;00m is_dtype_equal(values\u001b[38;5;241m.\u001b[39mdtype, dtype):\n\u001b[0;32m    334\u001b[0m     shape \u001b[38;5;241m=\u001b[39m values\u001b[38;5;241m.\u001b[39mshape\n",
      "File \u001b[1;32mC:\\ProgramData\\Anaconda3\\lib\\site-packages\\pandas\\core\\internals\\construction.py:591\u001b[0m, in \u001b[0;36m_prep_ndarray\u001b[1;34m(values, copy)\u001b[0m\n\u001b[0;32m    589\u001b[0m     values \u001b[38;5;241m=\u001b[39m values\u001b[38;5;241m.\u001b[39mreshape((values\u001b[38;5;241m.\u001b[39mshape[\u001b[38;5;241m0\u001b[39m], \u001b[38;5;241m1\u001b[39m))\n\u001b[0;32m    590\u001b[0m \u001b[38;5;28;01melif\u001b[39;00m values\u001b[38;5;241m.\u001b[39mndim \u001b[38;5;241m!=\u001b[39m \u001b[38;5;241m2\u001b[39m:\n\u001b[1;32m--> 591\u001b[0m     \u001b[38;5;28;01mraise\u001b[39;00m \u001b[38;5;167;01mValueError\u001b[39;00m(\u001b[38;5;124mf\u001b[39m\u001b[38;5;124m\"\u001b[39m\u001b[38;5;124mMust pass 2-d input. shape=\u001b[39m\u001b[38;5;132;01m{\u001b[39;00mvalues\u001b[38;5;241m.\u001b[39mshape\u001b[38;5;132;01m}\u001b[39;00m\u001b[38;5;124m\"\u001b[39m)\n\u001b[0;32m    593\u001b[0m \u001b[38;5;28;01mreturn\u001b[39;00m values\n",
      "\u001b[1;31mValueError\u001b[0m: Must pass 2-d input. shape=()"
     ]
    }
   ],
   "source": [
    "sns.heatmap(a)"
   ]
  },
  {
   "cell_type": "code",
   "execution_count": null,
   "id": "893353ec",
   "metadata": {},
   "outputs": [],
   "source": []
  },
  {
   "cell_type": "code",
   "execution_count": null,
   "id": "d833d234",
   "metadata": {},
   "outputs": [],
   "source": []
  }
 ],
 "metadata": {
  "kernelspec": {
   "display_name": "Python 3 (ipykernel)",
   "language": "python",
   "name": "python3"
  },
  "language_info": {
   "codemirror_mode": {
    "name": "ipython",
    "version": 3
   },
   "file_extension": ".py",
   "mimetype": "text/x-python",
   "name": "python",
   "nbconvert_exporter": "python",
   "pygments_lexer": "ipython3",
   "version": "3.9.12"
  },
  "toc": {
   "nav_menu": {},
   "number_sections": false,
   "sideBar": true,
   "skip_h1_title": false,
   "title_cell": "Table of Contents",
   "title_sidebar": "Contents",
   "toc_cell": false,
   "toc_position": {},
   "toc_section_display": true,
   "toc_window_display": false
  }
 },
 "nbformat": 4,
 "nbformat_minor": 5
}
