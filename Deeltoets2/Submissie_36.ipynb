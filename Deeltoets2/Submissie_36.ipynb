{
 "cells": [
  {
   "cell_type": "markdown",
   "id": "1dad2351",
   "metadata": {},
   "source": [
    "# Deeltoets2 Toegepaste Machine Learning\n",
    "**Bachelor Informatiekunde**\n",
    "\n",
    "## Tentameninformatie\n",
    "\n",
    "**Datum:** 2023\n",
    "**Tijd:** 2 uur  (+30 minuten extra tijd)\n",
    "\n",
    "\n",
    "**Toegestane hulpmiddelen:** Boek als PDF op computer, Kladpapier, handgeschreven spiekbrief (1 A4, 1 kant beschreven)\n",
    "\n",
    "## Huishoudelijke mededelingen\n",
    "* Je mag tot uiterlijk 30 minuten na de begintijd starten.\n",
    "* Jouw telefoon, jas en tas liggen in de kluisjes buiten de tentamenzaal.\n",
    "* De eerste 30 minuten en de laatste 15 minuten mag je de zaal niet verlaten. Daarbuiten kan je als je het tentamen af  en ingeleverd hebt de zaal verlaten.\n",
    "* De ondersteuning voorin de zaal kan controleren of jouw tentamen correct is ingeleverd.\n",
    "* Plaats jouw collegekaart of een geldig legitimatiebewijs op de hoek van de tafel. Een surveillant komt langs om deze te controleren.\n",
    "* Toiletbezoek is alleen mogelijk met toestemming van een surveillant.\n",
    "\n",
    "## Spiekbrief\n",
    "\n",
    "* Laat die liggen, die lever je in.\n",
    "\n",
    "## Punten\n",
    "\n",
    "* Elke vraag is 1 punt waard, tenzij er wat anders bijstaat.\n",
    "* Bij deelvragen krijg je in de regel een evenredig deel van de punten."
   ]
  },
  {
   "cell_type": "markdown",
   "id": "5b3fb968",
   "metadata": {},
   "source": [
    "## Notebook made by\n",
    "\n",
    "__Namen__:Anoniem",
    "\n",
    "__Emails__:Anoniem",
    "\n",
    "__Student id__:Anoniem"
   ]
  },
  {
   "cell_type": "markdown",
   "id": "38428116",
   "metadata": {},
   "source": [
    "## Toelichting\n",
    "\n",
    "* De meeste opgaven worden automatisch nagekeken. Bij vrijwel alle opdrachten staan er een paar tests onder de opdracht, dit is voornamelijk om te zorgen dat je de juiste type output geeft. Dit zijn dus *NIET* alle tests, die komen er bij het graden nog bij.\n",
    "\n",
    "## Voor het inleveren!\n",
    "\n",
    "* Pas niet de cellen aan, vooral niet die je niet kunt editen. Copieer ook geen cellen. Dit levert problemen op bij nakijken. Je mag wel cellen toevoegen (als kladblaadje).\n",
    "* Twijfel je of je per ongeluk iets hebt gewijzigd, kopieer dan bij inleveren je antwoorden naar een nieuw bestand, zodat het niet fout kan gaan.\n",
    "\n",
    "* Zorg dat de code goed runt van boven naar beneden, verifieer dat door boven in Kernel -> Restart & Run All uit te voeren"
   ]
  },
  {
   "cell_type": "code",
   "execution_count": 1,
   "id": "dcaf3b1e",
   "metadata": {
    "deletable": false,
    "editable": false,
    "nbgrader": {
     "cell_type": "code",
     "checksum": "5ca727c427648d33bfd036e1c9e3342f",
     "grade": false,
     "grade_id": "imp",
     "locked": true,
     "schema_version": 3,
     "solution": false
    }
   },
   "outputs": [],
   "source": [
    "import numpy as np\n",
    "import pandas as pd\n",
    "import seaborn as sns\n",
    "import matplotlib.pyplot as plt\n",
    "\n",
    "import sklearn\n",
    "from scipy.stats import mode\n",
    "from sklearn import linear_model\n",
    "from sklearn.linear_model import LinearRegression\n",
    "from sklearn.preprocessing import PolynomialFeatures\n",
    "from sklearn import datasets\n",
    "# testing\n",
    "from nose.tools import assert_count_equal, assert_equal, assert_almost_equals\n",
    "from numpy.testing import *\n",
    "from pandas.testing import assert_frame_equal\n",
    "\n",
    "# Please do not remove this: \n",
    "np.random.seed(31415)"
   ]
  },
  {
   "cell_type": "markdown",
   "id": "697ec1a4",
   "metadata": {
    "deletable": false,
    "editable": false,
    "nbgrader": {
     "cell_type": "markdown",
     "checksum": "4da01d384efb3eac591e95c56e06c65f",
     "grade": false,
     "grade_id": "sig",
     "locked": true,
     "schema_version": 3,
     "solution": false
    }
   },
   "source": [
    "# 1 The sigmoid (2pt)\n",
    "\n",
    "Here is the sigmoid function $f(x)$ again:\n",
    "\n",
    "$$f(x)= \\frac{1}{1+e^x}.$$\n",
    "\n",
    "1. What is the range and the domain of $f(x)$? \n",
    "    * Put your answer in the markdown cell below. \n",
    "2. Create a dict `D` with keys `range(-10,10)` and as values the sigmoid of the key.\n",
    "3. Plot that function.\n",
    "    * Put your answers in the code cell below.\n",
    "\n",
    "**Hint:** think of `np.exp`."
   ]
  },
  {
   "cell_type": "markdown",
   "id": "682226f7",
   "metadata": {
    "deletable": false,
    "nbgrader": {
     "cell_type": "markdown",
     "checksum": "d6c57981561662ef28d8385e658b6c00",
     "grade": true,
     "grade_id": "siga",
     "locked": false,
     "points": 1,
     "schema_version": 3,
     "solution": true
    }
   },
   "source": [
    "1. the range and the domain of f(x) are all values between 0 and 1"
   ]
  },
  {
   "cell_type": "code",
   "execution_count": 2,
   "id": "ac5ef5e7",
   "metadata": {
    "deletable": false,
    "nbgrader": {
     "cell_type": "code",
     "checksum": "14ad70b9889c2fcc829a26604a903785",
     "grade": true,
     "grade_id": "siga1",
     "locked": false,
     "points": 1,
     "schema_version": 3,
     "solution": true
    }
   },
   "outputs": [
    {
     "data": {
      "text/plain": [
       "<AxesSubplot:>"
      ]
     },
     "execution_count": 2,
     "metadata": {},
     "output_type": "execute_result"
    },
    {
     "data": {
      "image/png": "[encoded data removed]",
      "text/plain": [
       "<Figure size 432x288 with 1 Axes>"
      ]
     },
     "metadata": {
      "needs_background": "light"
     },
     "output_type": "display_data"
    }
   ],
   "source": [
    "D= dict()\n",
    "#WRITE YOUR CODE HERE\n",
    "\n",
    "\n",
    "#?range\n",
    "for i in range(-10, 10):\n",
    "    a = (1/(np.exp(i)))\n",
    "    D[i] = a\n",
    "    \n",
    "    \n",
    "# the sigmoid of a value is 1/(np.exp(x))\n",
    "\n",
    "\n",
    "Ddf=pd.Series(D)\n",
    "\n",
    "\n",
    "Ddf.plot()\n",
    "\n",
    "# Plot f(x) for x in range(-10,10)\n",
    "#WRITE YOUR CODE HERE"
   ]
  },
  {
   "cell_type": "markdown",
   "id": "ca0f6cb4",
   "metadata": {
    "deletable": false,
    "editable": false,
    "nbgrader": {
     "cell_type": "markdown",
     "checksum": "30470cc455fbe13105167a9afefc5311",
     "grade": false,
     "grade_id": "lr1",
     "locked": true,
     "schema_version": 3,
     "solution": false
    }
   },
   "source": [
    "# 2 Logistic regression 1 (4pt)\n",
    "\n",
    "Below we load  the penguin classification dataset, in which we want to learn to classify the `species`.\n",
    "\n",
    "\n",
    "1. How many classes are there in the dataset? (variable `classes`)\n",
    "2. How many instances are there in the dataset? (variable `instances`)\n",
    "3. If we would do logistic regression with only the numeric variables, how many parameters (those $\\theta$'s) will regression learn? Hint: write down the regression equation. (variable `parameters_numeric`)\n",
    "4. And how many if we use all variables in the dataset and one-hot encode the categorical ones (variable `parameters_all`).\n",
    "\n",
    "**Hint**: `p` is a pandas dataframe, and has all pandas functionality. E.g., `value_counts`. And you can easily select columns using method syntax, e.g, `p.species`."
   ]
  },
  {
   "cell_type": "code",
   "execution_count": 3,
   "id": "e0e7258b",
   "metadata": {
    "deletable": false,
    "editable": false,
    "nbgrader": {
     "cell_type": "code",
     "checksum": "5aeca66bee5dc10af2ad4bd9eb7a8239",
     "grade": false,
     "grade_id": "lr1c",
     "locked": true,
     "schema_version": 3,
     "solution": false
    }
   },
   "outputs": [
    {
     "name": "stdout",
     "output_type": "stream",
     "text": [
      "(344, 7)\n"
     ]
    },
    {
     "data": {
      "text/html": [
       "<div>\n",
       "<style scoped>\n",
       "    .dataframe tbody tr th:only-of-type {\n",
       "        vertical-align: middle;\n",
       "    }\n",
       "\n",
       "    .dataframe tbody tr th {\n",
       "        vertical-align: top;\n",
       "    }\n",
       "\n",
       "    .dataframe thead th {\n",
       "        text-align: right;\n",
       "    }\n",
       "</style>\n",
       "<table border=\"1\" class=\"dataframe\">\n",
       "  <thead>\n",
       "    <tr style=\"text-align: right;\">\n",
       "      <th></th>\n",
       "      <th>species</th>\n",
       "      <th>island</th>\n",
       "      <th>bill_length_mm</th>\n",
       "      <th>bill_depth_mm</th>\n",
       "      <th>flipper_length_mm</th>\n",
       "      <th>body_mass_g</th>\n",
       "      <th>sex</th>\n",
       "    </tr>\n",
       "  </thead>\n",
       "  <tbody>\n",
       "    <tr>\n",
       "      <th>0</th>\n",
       "      <td>Adelie</td>\n",
       "      <td>Torgersen</td>\n",
       "      <td>39.1</td>\n",
       "      <td>18.7</td>\n",
       "      <td>181.0</td>\n",
       "      <td>3750.0</td>\n",
       "      <td>Male</td>\n",
       "    </tr>\n",
       "    <tr>\n",
       "      <th>1</th>\n",
       "      <td>Adelie</td>\n",
       "      <td>Torgersen</td>\n",
       "      <td>39.5</td>\n",
       "      <td>17.4</td>\n",
       "      <td>186.0</td>\n",
       "      <td>3800.0</td>\n",
       "      <td>Female</td>\n",
       "    </tr>\n",
       "    <tr>\n",
       "      <th>2</th>\n",
       "      <td>Adelie</td>\n",
       "      <td>Torgersen</td>\n",
       "      <td>40.3</td>\n",
       "      <td>18.0</td>\n",
       "      <td>195.0</td>\n",
       "      <td>3250.0</td>\n",
       "      <td>Female</td>\n",
       "    </tr>\n",
       "    <tr>\n",
       "      <th>3</th>\n",
       "      <td>Adelie</td>\n",
       "      <td>Torgersen</td>\n",
       "      <td>NaN</td>\n",
       "      <td>NaN</td>\n",
       "      <td>NaN</td>\n",
       "      <td>NaN</td>\n",
       "      <td>NaN</td>\n",
       "    </tr>\n",
       "    <tr>\n",
       "      <th>4</th>\n",
       "      <td>Adelie</td>\n",
       "      <td>Torgersen</td>\n",
       "      <td>36.7</td>\n",
       "      <td>19.3</td>\n",
       "      <td>193.0</td>\n",
       "      <td>3450.0</td>\n",
       "      <td>Female</td>\n",
       "    </tr>\n",
       "  </tbody>\n",
       "</table>\n",
       "</div>"
      ],
      "text/plain": [
       "  species     island  bill_length_mm  bill_depth_mm  flipper_length_mm  \\\n",
       "0  Adelie  Torgersen            39.1           18.7              181.0   \n",
       "1  Adelie  Torgersen            39.5           17.4              186.0   \n",
       "2  Adelie  Torgersen            40.3           18.0              195.0   \n",
       "3  Adelie  Torgersen             NaN            NaN                NaN   \n",
       "4  Adelie  Torgersen            36.7           19.3              193.0   \n",
       "\n",
       "   body_mass_g     sex  \n",
       "0       3750.0    Male  \n",
       "1       3800.0  Female  \n",
       "2       3250.0  Female  \n",
       "3          NaN     NaN  \n",
       "4       3450.0  Female  "
      ]
     },
     "execution_count": 3,
     "metadata": {},
     "output_type": "execute_result"
    }
   ],
   "source": [
    "p=sns.load_dataset('penguins')\n",
    "print(p.shape)\n",
    "p.head()"
   ]
  },
  {
   "cell_type": "code",
   "execution_count": 4,
   "id": "cfa8d27b",
   "metadata": {
    "deletable": false,
    "nbgrader": {
     "cell_type": "code",
     "checksum": "46a86c30d57d64b7a4ce9721d3fb7142",
     "grade": false,
     "grade_id": "lr1a",
     "locked": false,
     "schema_version": 3,
     "solution": true
    }
   },
   "outputs": [
    {
     "name": "stdout",
     "output_type": "stream",
     "text": [
      "7\n",
      "344\n",
      "4\n",
      "6\n"
     ]
    }
   ],
   "source": [
    "classes= 7\n",
    "instances= 344\n",
    "parameters_numeric=4 \n",
    "parameters_all= 6\n",
    "\n",
    "\n",
    "#WRITE YOUR CODE HERE\n",
    "\n",
    "for v in [classes,instances,parameters_numeric,parameters_all]:\n",
    "    print(v)"
   ]
  },
  {
   "cell_type": "code",
   "execution_count": 5,
   "id": "0a4c71be",
   "metadata": {
    "deletable": false,
    "editable": false,
    "nbgrader": {
     "cell_type": "code",
     "checksum": "e86c0ad4e325716141e33014f7601ab6",
     "grade": true,
     "grade_id": "lr1t",
     "locked": true,
     "points": 4.01,
     "schema_version": 3,
     "solution": false
    }
   },
   "outputs": [],
   "source": [
    "try:\n",
    "    for v in [classes,instances,parameters_all,parameters_numeric]:\n",
    "        assert isinstance(v,int)\n",
    "except Exception as e: print(e)\n",
    " \n",
    "   "
   ]
  },
  {
   "cell_type": "markdown",
   "id": "405c54c2",
   "metadata": {
    "deletable": false,
    "editable": false,
    "nbgrader": {
     "cell_type": "markdown",
     "checksum": "614523b6e050217632476b001992e5ee",
     "grade": false,
     "grade_id": "lr2",
     "locked": true,
     "schema_version": 3,
     "solution": false
    }
   },
   "source": [
    "# 3 Data preparation (3pt)\n",
    "\n",
    "We look again at the penguins dataset. We call this dataframe `p`.\n",
    "\n",
    "1. Which variables contain missing values? (variable `Vmissing`) \n",
    "2. If needed, impute the numeric variables with the mean value and the categorical with the mode (the most often occuring value).  Give the imputation values for the variablles with missing values in a dict `impute_values` of the form `{'column_name': imputation value}`.\n",
    "3. For further processing simply remove the rows with missing values using `p.dropna(inplace=True)`.\n",
    "4. Now Z-normalize all numeric values in p. (Z-normalization is what the sklearn's StandardScalar does). You name  the new dataframe with only the numeric columns with their  normalized values  `pz`."
   ]
  },
  {
   "cell_type": "code",
   "execution_count": 6,
   "id": "bb5bb2ad",
   "metadata": {
    "deletable": false,
    "nbgrader": {
     "cell_type": "code",
     "checksum": "a67b8abb2665ecd761a5e532e4abb1e1",
     "grade": false,
     "grade_id": "lr2a",
     "locked": false,
     "schema_version": 3,
     "solution": true
    }
   },
   "outputs": [
    {
     "name": "stdout",
     "output_type": "stream",
     "text": [
      "   bill_depth_mm  bill_length_mm  body_mass_g  flipper_length_mm\n",
      "0           17.0            41.1       3800.0              190.0\n",
      "   island   sex\n",
      "0  Biscoe  Male\n",
      "{',', 'h', 'e', 'f', 'x', ' ', 'r', '_', 'i', 'g', 'a', 's', 'o', 'm', 'b', 'l', 'n', 'p', 'y', 't', 'd'}\n",
      "{'bill_depth_mm ': 17, 'bill_length_mm': 41.1, 'body_mass_g  ': 3800.0, 'flipper_length_mm ': 190.0, 'island ': 'Biscoe', 'sex ': 'Male'}\n"
     ]
    }
   ],
   "source": [
    "from sklearn.impute import SimpleImputer\n",
    "\n",
    "\n",
    "Vmissing=set('bill_length_mm, bill_depth_mm, flipper_length_mm, body_mass_g, sex') # put the column names with missing data in this set.\n",
    "impute_values = dict()\n",
    "\n",
    "k =p[['bill_depth_mm', 'bill_length_mm',  'body_mass_g', 'flipper_length_mm']].copy()\n",
    "n = p[['island',\"sex\"]]\n",
    "\n",
    "#?SimpleImputer\n",
    "\n",
    "\n",
    "imp_mean = SimpleImputer(missing_values=np.nan, strategy='mean').fit(k)\n",
    "mean_thing = imp_mean.transform(k)\n",
    "op = pd.DataFrame(mean_thing, columns=['bill_depth_mm', 'bill_length_mm',  'body_mass_g', 'flipper_length_mm'])\n",
    "print(op.mode())\n",
    "\n",
    "\n",
    "imp_mode = SimpleImputer(missing_values=np.nan, strategy='most_frequent').fit(n)\n",
    "mode_thing = imp_mode.transform(n)\n",
    "bop = pd.DataFrame(mode_thing, columns= [['island',\"sex\"]])\n",
    "print(bop.mode())\n",
    "\n",
    "#print(complete_x)\n",
    "\n",
    "print(Vmissing)\n",
    "\n",
    "impute_values[\"bill_depth_mm \"] = 17\n",
    "impute_values[\"bill_length_mm\"] = 41.1\n",
    "impute_values[\"body_mass_g  \"] = 3800.0\n",
    "impute_values[\"flipper_length_mm \"] =  190.0\n",
    "impute_values[\"island \"] = \"Biscoe\"\n",
    "impute_values[\"sex \"] = \"Male\"\n",
    "\n",
    "\n",
    "print(impute_values)"
   ]
  },
  {
   "cell_type": "code",
   "execution_count": 7,
   "id": "986283a0",
   "metadata": {
    "deletable": false,
    "nbgrader": {
     "cell_type": "code",
     "checksum": "ce668e0419934632ccd71ccfefaebc95",
     "grade": false,
     "grade_id": "lr3a",
     "locked": false,
     "schema_version": 3,
     "solution": true
    }
   },
   "outputs": [
    {
     "name": "stdout",
     "output_type": "stream",
     "text": [
      "     bill_depth_mm  bill_length_mm  body_mass_g  flipper_length_mm\n",
      "0             18.7            39.1       3750.0              181.0\n",
      "1             17.4            39.5       3800.0              186.0\n",
      "2             18.0            40.3       3250.0              195.0\n",
      "4             19.3            36.7       3450.0              193.0\n",
      "5             20.6            39.3       3650.0              190.0\n",
      "..             ...             ...          ...                ...\n",
      "338           13.7            47.2       4925.0              214.0\n",
      "340           14.3            46.8       4850.0              215.0\n",
      "341           15.7            50.4       5750.0              222.0\n",
      "342           14.8            45.2       5200.0              212.0\n",
      "343           16.1            49.9       5400.0              213.0\n",
      "\n",
      "[333 rows x 4 columns]\n",
      "     bill_depth_mm  bill_length_mm  body_mass_g  flipper_length_mm\n",
      "0             18.7            39.1       3750.0              181.0\n",
      "1             17.4            39.5       3800.0              186.0\n",
      "2             18.0            40.3       3250.0              195.0\n",
      "4             19.3            36.7       3450.0              193.0\n",
      "5             20.6            39.3       3650.0              190.0\n",
      "..             ...             ...          ...                ...\n",
      "338           13.7            47.2       4925.0              214.0\n",
      "340           14.3            46.8       4850.0              215.0\n",
      "341           15.7            50.4       5750.0              222.0\n",
      "342           14.8            45.2       5200.0              212.0\n",
      "343           16.1            49.9       5400.0              213.0\n",
      "\n",
      "[333 rows x 4 columns]\n",
      "[[ 0.7807321  -0.89604189 -0.56847478 -1.42675157]\n",
      " [ 0.11958397 -0.82278787 -0.50628618 -1.06947358]\n",
      " [ 0.42472926 -0.67627982 -1.1903608  -0.42637319]\n",
      " ...\n",
      " [-0.74499437  1.17338426  1.91906927  1.50292796]\n",
      " [-1.20271231  0.22108196  1.23499466  0.78837197]\n",
      " [-0.54156417  1.08181673  1.48374906  0.85982757]]\n",
      "     bill_depth_mm  bill_length_mm  body_mass_g  flipper_length_mm\n",
      "0         0.780732       -0.896042    -0.568475          -1.426752\n",
      "1         0.119584       -0.822788    -0.506286          -1.069474\n",
      "2         0.424729       -0.676280    -1.190361          -0.426373\n",
      "3         1.085877       -1.335566    -0.941606          -0.569284\n",
      "4         1.747026       -0.859415    -0.692852          -0.783651\n",
      "..             ...             ...          ...                ...\n",
      "328      -1.762145        0.587352     0.892957           0.931283\n",
      "329      -1.457000        0.514098     0.799674           1.002739\n",
      "330      -0.744994        1.173384     1.919069           1.502928\n",
      "331      -1.202712        0.221082     1.234995           0.788372\n",
      "332      -0.541564        1.081817     1.483749           0.859828\n",
      "\n",
      "[333 rows x 4 columns]\n"
     ]
    },
    {
     "data": {
      "text/html": [
       "<div>\n",
       "<style scoped>\n",
       "    .dataframe tbody tr th:only-of-type {\n",
       "        vertical-align: middle;\n",
       "    }\n",
       "\n",
       "    .dataframe tbody tr th {\n",
       "        vertical-align: top;\n",
       "    }\n",
       "\n",
       "    .dataframe thead th {\n",
       "        text-align: right;\n",
       "    }\n",
       "</style>\n",
       "<table border=\"1\" class=\"dataframe\">\n",
       "  <thead>\n",
       "    <tr style=\"text-align: right;\">\n",
       "      <th></th>\n",
       "      <th>bill_depth_mm</th>\n",
       "      <th>bill_length_mm</th>\n",
       "      <th>body_mass_g</th>\n",
       "      <th>flipper_length_mm</th>\n",
       "    </tr>\n",
       "  </thead>\n",
       "  <tbody>\n",
       "    <tr>\n",
       "      <th>0</th>\n",
       "      <td>0.780732</td>\n",
       "      <td>-0.896042</td>\n",
       "      <td>-0.568475</td>\n",
       "      <td>-1.426752</td>\n",
       "    </tr>\n",
       "    <tr>\n",
       "      <th>1</th>\n",
       "      <td>0.119584</td>\n",
       "      <td>-0.822788</td>\n",
       "      <td>-0.506286</td>\n",
       "      <td>-1.069474</td>\n",
       "    </tr>\n",
       "    <tr>\n",
       "      <th>2</th>\n",
       "      <td>0.424729</td>\n",
       "      <td>-0.676280</td>\n",
       "      <td>-1.190361</td>\n",
       "      <td>-0.426373</td>\n",
       "    </tr>\n",
       "    <tr>\n",
       "      <th>3</th>\n",
       "      <td>1.085877</td>\n",
       "      <td>-1.335566</td>\n",
       "      <td>-0.941606</td>\n",
       "      <td>-0.569284</td>\n",
       "    </tr>\n",
       "    <tr>\n",
       "      <th>4</th>\n",
       "      <td>1.747026</td>\n",
       "      <td>-0.859415</td>\n",
       "      <td>-0.692852</td>\n",
       "      <td>-0.783651</td>\n",
       "    </tr>\n",
       "  </tbody>\n",
       "</table>\n",
       "</div>"
      ],
      "text/plain": [
       "   bill_depth_mm  bill_length_mm  body_mass_g  flipper_length_mm\n",
       "0       0.780732       -0.896042    -0.568475          -1.426752\n",
       "1       0.119584       -0.822788    -0.506286          -1.069474\n",
       "2       0.424729       -0.676280    -1.190361          -0.426373\n",
       "3       1.085877       -1.335566    -0.941606          -0.569284\n",
       "4       1.747026       -0.859415    -0.692852          -0.783651"
      ]
     },
     "execution_count": 7,
     "metadata": {},
     "output_type": "execute_result"
    }
   ],
   "source": [
    "# keep this\n",
    "p.dropna(inplace=True)  # remove all rows with at least one missing value\n",
    "\n",
    "pz=p[['bill_depth_mm', 'bill_length_mm',  'body_mass_g', 'flipper_length_mm']].copy()  \n",
    "# now further work on pz to give your solution. Keep these columns in this order\n",
    "\n",
    "print(pz)\n",
    "\n",
    "from sklearn.preprocessing import StandardScaler\n",
    "\n",
    "#?StandardScaler\n",
    "\n",
    "#pz[[['bill_depth_mm', 'bill_length_mm',  'body_mass_g', 'flipper_length_mm']]]\n",
    "\n",
    "\n",
    "scaler = StandardScaler()\n",
    "scaler.fit(pz)\n",
    "l = scaler.transform(pz)\n",
    "print(pz)\n",
    "print(l)\n",
    "\n",
    "pz = pd.DataFrame(l, columns=['bill_depth_mm', 'bill_length_mm',  'body_mass_g', 'flipper_length_mm'] )\n",
    "\n",
    "print(pz)\n",
    "\n",
    "\n",
    "\n",
    "\n",
    "#WRITE YOUR CODE HERE\n",
    "pz.head()"
   ]
  },
  {
   "cell_type": "code",
   "execution_count": 8,
   "id": "8e2ffa7e",
   "metadata": {
    "deletable": false,
    "editable": false,
    "nbgrader": {
     "cell_type": "code",
     "checksum": "29f6fb9d3ed00bd864ab5880a81339f4",
     "grade": true,
     "grade_id": "lr2t",
     "locked": true,
     "points": 3.01,
     "schema_version": 3,
     "solution": false
    }
   },
   "outputs": [
    {
     "name": "stdout",
     "output_type": "stream",
     "text": [
      "\n"
     ]
    }
   ],
   "source": [
    "try:\n",
    "    assert isinstance(Vmissing,set)\n",
    "    assert Vmissing.issubset(set(p.columns))\n",
    "    assert isinstance(impute_values,dict)\n",
    "    assert pz.shape==(333, 4)\n",
    "    assert_array_equal(list(pz.columns), ['bill_depth_mm', 'bill_length_mm',  'body_mass_g', 'flipper_length_mm'])\n",
    "except Exception as e: print(e)\n"
   ]
  },
  {
   "cell_type": "markdown",
   "id": "4aae1a6d",
   "metadata": {
    "deletable": false,
    "editable": false,
    "nbgrader": {
     "cell_type": "markdown",
     "checksum": "a0705fd21d552e1acb4c8ef7cfc2064a",
     "grade": false,
     "grade_id": "ml1",
     "locked": true,
     "schema_version": 3,
     "solution": false
    }
   },
   "source": [
    "# 4 Decision trees (4pt)\n",
    "\n",
    "Now we will predict the species in the penguin dataset.\n",
    "\n",
    "1. First run the cell below to make the X and y sets.\n",
    "2. Split X and y into train and test sets using a 2/3, 1/3 split using `train_test_split` with `random_state=0`.\n",
    "3. Then use the `DecisionTreeClassifier(random_state=0)` to train a classifier, and compute its accuracy in variable `accuracy_testset`.\n",
    "4. Then create the report with all precision, recall and F1  values for each class\n",
    "5. Finally make a confusion matrix and print it nicely with `sns.heatmap`."
   ]
  },
  {
   "cell_type": "code",
   "execution_count": 9,
   "id": "f0c69de8",
   "metadata": {
    "deletable": false,
    "editable": false,
    "nbgrader": {
     "cell_type": "code",
     "checksum": "b056b6bb4087e9fac7a47c9fbab871e1",
     "grade": false,
     "grade_id": "ml1inp",
     "locked": true,
     "schema_version": 3,
     "solution": false
    }
   },
   "outputs": [
    {
     "data": {
      "text/plain": [
       "((333, 4), (333,), 0, 0)"
      ]
     },
     "execution_count": 9,
     "metadata": {},
     "output_type": "execute_result"
    }
   ],
   "source": [
    "X= pz.values\n",
    "p.dropna(inplace=True) \n",
    "y= p.species.astype('category').cat.codes.values  # here we just replace the species names with integers\n",
    "# check: X and y have the same number of rows, and both no missing values\n",
    "\n",
    "X.shape,y.shape, np.isnan(X).sum(), np.isnan(y).sum()"
   ]
  },
  {
   "cell_type": "code",
   "execution_count": 10,
   "id": "bcaba871",
   "metadata": {
    "deletable": false,
    "nbgrader": {
     "cell_type": "code",
     "checksum": "9125caa2112a7fd5ca60a84cc53b71b9",
     "grade": false,
     "grade_id": "ml1a",
     "locked": false,
     "schema_version": 3,
     "solution": true
    }
   },
   "outputs": [
    {
     "data": {
      "text/plain": [
       "((219, 4), (114, 4), (219,), (114,))"
      ]
     },
     "execution_count": 10,
     "metadata": {},
     "output_type": "execute_result"
    }
   ],
   "source": [
    "from sklearn.model_selection import train_test_split\n",
    "\n",
    "\n",
    "Xtrain, Xtest, ytrain, ytest= train_test_split(X, y, train_size= 0.66, random_state= 0)\n",
    "\n",
    "\n",
    "Xtrain.shape, Xtest.shape, ytrain.shape, ytest.shape "
   ]
  },
  {
   "cell_type": "code",
   "execution_count": 11,
   "id": "e3c0c966",
   "metadata": {
    "deletable": false,
    "nbgrader": {
     "cell_type": "code",
     "checksum": "973ee3cfb736d53996b57ca892973b37",
     "grade": false,
     "grade_id": "ml1b",
     "locked": false,
     "schema_version": 3,
     "solution": true
    }
   },
   "outputs": [
    {
     "data": {
      "text/plain": [
       "0.9736842105263158"
      ]
     },
     "execution_count": 11,
     "metadata": {},
     "output_type": "execute_result"
    }
   ],
   "source": [
    "from sklearn.tree import DecisionTreeClassifier\n",
    "from sklearn.model_selection import cross_val_score\n",
    "from sklearn.metrics import accuracy_score\n",
    "\n",
    "#?DecisionTreeClassifier\n",
    "#?accuracy_score\n",
    "\n",
    "clf = DecisionTreeClassifier(random_state=0).fit(Xtrain, ytrain)\n",
    "a = clf.predict(Xtest)\n",
    "\n",
    "\n",
    "accuracy_testset= accuracy_score(ytest, a)\n",
    "#WRITE YOUR CODE HERE\n",
    "accuracy_testset "
   ]
  },
  {
   "cell_type": "code",
   "execution_count": 12,
   "id": "fd7e014b",
   "metadata": {
    "deletable": false,
    "editable": false,
    "nbgrader": {
     "cell_type": "code",
     "checksum": "7c98a77835399880755dfa714e58b784",
     "grade": true,
     "grade_id": "ml1t",
     "locked": true,
     "points": 2.01,
     "schema_version": 3,
     "solution": false
    }
   },
   "outputs": [],
   "source": [
    "try: \n",
    "    assert 0<= accuracy_testset <= 1\n",
    "except Exception as e: print(e)\n",
    "    "
   ]
  },
  {
   "cell_type": "markdown",
   "id": "344a2d5b",
   "metadata": {},
   "source": [
    "# the report with all precision, recall and F1  values for each class\n",
    "\n",
    "Make it in the cell below"
   ]
  },
  {
   "cell_type": "code",
   "execution_count": 13,
   "id": "ad5acdf4",
   "metadata": {
    "deletable": false,
    "nbgrader": {
     "cell_type": "code",
     "checksum": "8c3f634d46fe05facbaa1c209b36bde2",
     "grade": true,
     "grade_id": "ml1c",
     "locked": false,
     "points": 1,
     "schema_version": 3,
     "solution": true
    }
   },
   "outputs": [
    {
     "name": "stdout",
     "output_type": "stream",
     "text": [
      "              precision    recall  f1-score   support\n",
      "\n",
      "           0       0.95      1.00      0.97        55\n",
      "           1       1.00      0.90      0.95        20\n",
      "           2       1.00      0.97      0.99        39\n",
      "\n",
      "    accuracy                           0.97       114\n",
      "   macro avg       0.98      0.96      0.97       114\n",
      "weighted avg       0.98      0.97      0.97       114\n",
      "\n"
     ]
    }
   ],
   "source": [
    "from sklearn.metrics import classification_report\n",
    "\n",
    "#?classification_report\n",
    "\n",
    "print(classification_report(ytest, a))\n",
    "                     \n",
    "\n",
    "\n",
    "\n",
    "\n"
   ]
  },
  {
   "cell_type": "markdown",
   "id": "434ef1e4",
   "metadata": {},
   "source": [
    "# The confusion matrix nicely  printed with `sns.heatmap`\n",
    "\n",
    "* in thecell below"
   ]
  },
  {
   "cell_type": "code",
   "execution_count": 14,
   "id": "38b8679b",
   "metadata": {
    "deletable": false,
    "nbgrader": {
     "cell_type": "code",
     "checksum": "7103b3314b6b03f3d00e3d6c18203051",
     "grade": true,
     "grade_id": "ml1d",
     "locked": false,
     "points": 1,
     "schema_version": 3,
     "solution": true
    }
   },
   "outputs": [
    {
     "data": {
      "image/png": "[encoded data removed]",
      "text/plain": [
       "<Figure size 432x288 with 2 Axes>"
      ]
     },
     "metadata": {},
     "output_type": "display_data"
    }
   ],
   "source": [
    "import numpy as np\n",
    "from sklearn.metrics import confusion_matrix\n",
    "c = confusion_matrix(ytest,a)\n",
    "\n",
    "import seaborn as sns; sns.set_theme()\n",
    "ax = sns.heatmap(c)"
   ]
  }
 ],
 "metadata": {
  "kernelspec": {
   "display_name": "Python 3 (ipykernel)",
   "language": "python",
   "name": "python3"
  },
  "language_info": {
   "codemirror_mode": {
    "name": "ipython",
    "version": 3
   },
   "file_extension": ".py",
   "mimetype": "text/x-python",
   "name": "python",
   "nbconvert_exporter": "python",
   "pygments_lexer": "ipython3",
   "version": "3.9.12"
  },
  "toc": {
   "nav_menu": {},
   "number_sections": false,
   "sideBar": true,
   "skip_h1_title": false,
   "title_cell": "Table of Contents",
   "title_sidebar": "Contents",
   "toc_cell": false,
   "toc_position": {},
   "toc_section_display": true,
   "toc_window_display": false
  }
 },
 "nbformat": 4,
 "nbformat_minor": 5
}
